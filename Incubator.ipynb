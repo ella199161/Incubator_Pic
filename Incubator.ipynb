{
 "cells": [
  {
   "cell_type": "code",
   "execution_count": 1,
   "metadata": {},
   "outputs": [],
   "source": [
    "import pandas as pd\n",
    "import numpy as np\n",
    "import os\n",
    "import imageio\n",
    "import datetime\n",
    "import time\n",
    "import sqlite3\n",
    "import operator\n",
    "import matplotlib.pyplot as plt\n",
    "from sklearn.model_selection import train_test_split\n",
    "from sklearn.linear_model import LogisticRegression\n",
    "from sklearn.metrics import precision_score, accuracy_score, roc_curve, auc, recall_score, f1_score, roc_auc_score\n"
   ]
  },
  {
   "cell_type": "code",
   "execution_count": 2,
   "metadata": {},
   "outputs": [],
   "source": [
    "from sklearn.tree import DecisionTreeClassifier\n",
    "from sklearn.ensemble import BaggingClassifier\n",
    "from sklearn.neighbors import KNeighborsClassifier\n",
    "from sklearn.ensemble import BaggingClassifier\n",
    "from sklearn.metrics import make_scorer, roc_auc_score, accuracy_score\n",
    "from sklearn.model_selection import GridSearchCV\n",
    "from sklearn.ensemble import RandomForestClassifier\n",
    "from sklearn.ensemble import GradientBoostingClassifier\n",
    "from sklearn.neural_network import MLPClassifier\n",
    "from sklearn.svm import LinearSVC\n",
    "from sklearn.svm import SVC\n",
    "import math\n",
    "% matplotlib inline\n",
    "# Always make it pretty.\n",
    "plt.style.use('ggplot')"
   ]
  },
  {
   "cell_type": "code",
   "execution_count": 15,
   "metadata": {},
   "outputs": [
    {
     "name": "stderr",
     "output_type": "stream",
     "text": [
      "/Volumes/Data/Anaconda/anaconda3/lib/python3.6/site-packages/IPython/core/interactiveshell.py:2728: DtypeWarning: Columns (19,55) have mixed types. Specify dtype option on import or set low_memory=False.\n",
      "  interactivity=interactivity, compiler=compiler, result=result)\n"
     ]
    }
   ],
   "source": [
    "#load the loan data\n",
    "\n",
    "loan = pd.read_csv('loan.csv')\n",
    "loanT = pd.DataFrame.copy(loan)"
   ]
  },
  {
   "cell_type": "code",
   "execution_count": 16,
   "metadata": {},
   "outputs": [],
   "source": [
    "loan_col = loan.columns.values"
   ]
  },
  {
   "cell_type": "code",
   "execution_count": 17,
   "metadata": {},
   "outputs": [
    {
     "data": {
      "text/plain": [
       "(887379, 74)"
      ]
     },
     "execution_count": 17,
     "metadata": {},
     "output_type": "execute_result"
    }
   ],
   "source": [
    "loan.shape"
   ]
  },
  {
   "cell_type": "markdown",
   "metadata": {},
   "source": [
    "First let's clean up the data by doing feature engineering."
   ]
  },
  {
   "cell_type": "code",
   "execution_count": 18,
   "metadata": {},
   "outputs": [],
   "source": [
    "loan_useless = ['id', 'member_id','url', 'desc', 'verification_status']\n",
    "loan.drop(loan_useless,axis=1,inplace = True)"
   ]
  },
  {
   "cell_type": "code",
   "execution_count": 19,
   "metadata": {},
   "outputs": [],
   "source": [
    "loan['earliest_cr_line'] = pd.to_datetime(loan['earliest_cr_line'])\n",
    "loan['issue_d'] = pd.to_datetime(loan['issue_d'])\n",
    "loan['last_pymnt_d'] = pd.to_datetime(loan['last_pymnt_d'])\n",
    "loan['next_pymnt_d'] = pd.to_datetime(loan['next_pymnt_d'])\n",
    "loan['last_credit_pull_d'] = pd.to_datetime(loan['last_credit_pull_d'])\n",
    "loan['dti_new'] = np.where(loan['application_type']=='JOINT', loan['dti_joint'],loan['dti'])\n",
    "loan['annual_inc'] = np.where(loan['application_type']=='JOINT', loan['annual_inc_joint'],loan['annual_inc'])\n"
   ]
  },
  {
   "cell_type": "code",
   "execution_count": 20,
   "metadata": {},
   "outputs": [
    {
     "data": {
      "text/plain": [
       "count    8.171030e+05\n",
       "mean     1.394582e+05\n",
       "std      1.537500e+05\n",
       "min      0.000000e+00\n",
       "25%      2.985300e+04\n",
       "50%      8.055900e+04\n",
       "75%      2.082050e+05\n",
       "max      8.000078e+06\n",
       "Name: tot_cur_bal, dtype: float64"
      ]
     },
     "execution_count": 20,
     "metadata": {},
     "output_type": "execute_result"
    }
   ],
   "source": [
    "loan['tot_cur_bal'].describe()"
   ]
  },
  {
   "cell_type": "code",
   "execution_count": 21,
   "metadata": {},
   "outputs": [],
   "source": [
    "loan['log_tot_cur_bal']= loan['tot_cur_bal'].apply([lambda x: math.log(x+1)])\n"
   ]
  },
  {
   "cell_type": "code",
   "execution_count": 22,
   "metadata": {},
   "outputs": [],
   "source": [
    "loan['log_annual_inc'] = loan['annual_inc'].apply([lambda x: math.log(x)])\n"
   ]
  },
  {
   "cell_type": "code",
   "execution_count": 23,
   "metadata": {},
   "outputs": [],
   "source": [
    "loan_col = loan.columns.values\n",
    "loan_na = loan.isnull().sum()/len(loan)\n",
    "for i in range(len(loan_na)):\n",
    "    if loan_na[i]>=0.8:\n",
    "        #print(loan_na[i], loan_col[i],i)\n",
    "        loan.drop(loan_col[i], axis = 1, inplace = True)"
   ]
  },
  {
   "cell_type": "code",
   "execution_count": 24,
   "metadata": {},
   "outputs": [],
   "source": [
    "loan_group = loan.groupby('term').size()\n",
    "maj = loan_group[loan_group == loan_group.max()].index[0]"
   ]
  },
  {
   "cell_type": "markdown",
   "metadata": {},
   "source": [
    "Missing value imputation, here for catalogical we use the most common one, and for numberica we use the mean"
   ]
  },
  {
   "cell_type": "code",
   "execution_count": 25,
   "metadata": {},
   "outputs": [
    {
     "data": {
      "text/plain": [
       "float64           35\n",
       "datetime64[ns]     5\n",
       "object            14\n",
       "dtype: int64"
      ]
     },
     "execution_count": 25,
     "metadata": {},
     "output_type": "execute_result"
    }
   ],
   "source": [
    "dt=loan.dtypes\n",
    "dt.groupby(dt).size()"
   ]
  },
  {
   "cell_type": "code",
   "execution_count": 175,
   "metadata": {},
   "outputs": [],
   "source": [
    "#na inputation\n",
    "for i in loan.columns.values:\n",
    "    #print(i)\n",
    "    if loan[i].dtypes == object or loan[i].dtypes == 'datetime64[ns]':\n",
    "        loan_group = loan.groupby('term').size()\n",
    "        maj = loan_group[loan_group == loan_group.max()].index[0]\n",
    "        loan[i].fillna(maj, inplace = True)\n",
    "    else:\n",
    "        loan[i].fillna(loan[i].mean(skipna = True), inplace = True);"
   ]
  },
  {
   "cell_type": "code",
   "execution_count": 176,
   "metadata": {},
   "outputs": [
    {
     "data": {
      "text/plain": [
       "array(['loan_amnt', 'funded_amnt', 'funded_amnt_inv', 'term', 'int_rate',\n",
       "       'installment', 'grade', 'sub_grade', 'emp_title', 'emp_length',\n",
       "       'home_ownership', 'annual_inc', 'issue_d', 'loan_status',\n",
       "       'pymnt_plan', 'purpose', 'title', 'zip_code', 'addr_state', 'dti',\n",
       "       'delinq_2yrs', 'earliest_cr_line', 'inq_last_6mths',\n",
       "       'mths_since_last_delinq', 'mths_since_last_record', 'open_acc',\n",
       "       'pub_rec', 'revol_bal', 'revol_util', 'total_acc',\n",
       "       'initial_list_status', 'out_prncp', 'out_prncp_inv', 'total_pymnt',\n",
       "       'total_pymnt_inv', 'total_rec_prncp', 'total_rec_int',\n",
       "       'total_rec_late_fee', 'recoveries', 'collection_recovery_fee',\n",
       "       'last_pymnt_d', 'last_pymnt_amnt', 'next_pymnt_d',\n",
       "       'last_credit_pull_d', 'collections_12_mths_ex_med',\n",
       "       'mths_since_last_major_derog', 'policy_code', 'application_type',\n",
       "       'annual_inc_joint', 'dti_joint', 'verification_status_joint',\n",
       "       'acc_now_delinq', 'tot_coll_amt', 'tot_cur_bal', 'open_acc_6m',\n",
       "       'open_il_6m', 'open_il_12m', 'open_il_24m', 'mths_since_rcnt_il',\n",
       "       'total_bal_il', 'il_util', 'open_rv_12m', 'open_rv_24m',\n",
       "       'max_bal_bc', 'all_util', 'total_rev_hi_lim', 'inq_fi',\n",
       "       'total_cu_tl', 'inq_last_12m', 'dti_new'], dtype=object)"
      ]
     },
     "execution_count": 176,
     "metadata": {},
     "output_type": "execute_result"
    }
   ],
   "source": [
    "loan_col"
   ]
  },
  {
   "cell_type": "code",
   "execution_count": 177,
   "metadata": {},
   "outputs": [],
   "source": [
    "loan.loc[loan['home_ownership'] =='ANY','home_ownership']  ='OTHER'\n",
    "loan.loc[loan['home_ownership'] =='NONE','home_ownership']  ='OTHER'\n"
   ]
  },
  {
   "cell_type": "code",
   "execution_count": 178,
   "metadata": {},
   "outputs": [
    {
     "data": {
      "text/plain": [
       "MORTGAGE    443557\n",
       "RENT        356117\n",
       "OWN          87470\n",
       "OTHER          235\n",
       "Name: home_ownership, dtype: int64"
      ]
     },
     "execution_count": 178,
     "metadata": {},
     "output_type": "execute_result"
    }
   ],
   "source": [
    "loan['home_ownership'].value_counts()"
   ]
  },
  {
   "cell_type": "code",
   "execution_count": 179,
   "metadata": {},
   "outputs": [],
   "source": [
    "df_timestamp = loan['issue_d'].copy()"
   ]
  },
  {
   "cell_type": "code",
   "execution_count": 180,
   "metadata": {},
   "outputs": [],
   "source": [
    "dw= df_timestamp.apply(lambda x: x.dayofweek)"
   ]
  },
  {
   "cell_type": "code",
   "execution_count": 181,
   "metadata": {},
   "outputs": [
    {
     "data": {
      "text/plain": [
       "2    159427\n",
       "1    153699\n",
       "6    146699\n",
       "3    132357\n",
       "5    121543\n",
       "4     91175\n",
       "0     82479\n",
       "Name: issue_d, dtype: int64"
      ]
     },
     "execution_count": 181,
     "metadata": {},
     "output_type": "execute_result"
    }
   ],
   "source": [
    "dw.value_counts()"
   ]
  },
  {
   "cell_type": "code",
   "execution_count": 221,
   "metadata": {},
   "outputs": [
    {
     "data": {
      "text/plain": [
       "<matplotlib.axes._subplots.AxesSubplot at 0x1a29080940>"
      ]
     },
     "execution_count": 221,
     "metadata": {},
     "output_type": "execute_result"
    },
    {
     "data": {
      "image/png": "[encoded data removed]",
      "text/plain": [
       "<matplotlib.figure.Figure at 0x1a2903c978>"
      ]
     },
     "metadata": {},
     "output_type": "display_data"
    }
   ],
   "source": [
    "#The distribution of the int_rate looks like the following, it rages from 4 % to 30%\n",
    "sns.kdeplot(loan['int_rate'])\n"
   ]
  },
  {
   "cell_type": "code",
   "execution_count": 182,
   "metadata": {},
   "outputs": [
    {
     "data": {
      "text/plain": [
       "<matplotlib.image.AxesImage at 0x1a3c6f9550>"
      ]
     },
     "execution_count": 182,
     "metadata": {},
     "output_type": "execute_result"
    },
    {
     "data": {
      "image/png": "[encoded data removed]",
      "text/plain": [
       "<matplotlib.figure.Figure at 0x1a2c8b26a0>"
      ]
     },
     "metadata": {},
     "output_type": "display_data"
    }
   ],
   "source": [
    "plt.matshow(loan.corr())"
   ]
  },
  {
   "cell_type": "code",
   "execution_count": 183,
   "metadata": {},
   "outputs": [
    {
     "data": {
      "text/plain": [
       "<matplotlib.axes._subplots.AxesSubplot at 0x1a2c8b29e8>"
      ]
     },
     "execution_count": 183,
     "metadata": {},
     "output_type": "execute_result"
    },
    {
     "data": {
      "image/png": "[encoded data removed]",
      "text/plain": [
       "<matplotlib.figure.Figure at 0x1a3c6f7198>"
      ]
     },
     "metadata": {},
     "output_type": "display_data"
    }
   ],
   "source": [
    "import seaborn as sns\n",
    "corr = loan.corr()\n",
    "sns.heatmap(corr, \n",
    "            xticklabels=corr.columns.values,\n",
    "            yticklabels=corr.columns.values)"
   ]
  },
  {
   "cell_type": "code",
   "execution_count": 293,
   "metadata": {},
   "outputs": [
    {
     "data": {
      "text/plain": [
       "<matplotlib.collections.PathCollection at 0x1a3c2853c8>"
      ]
     },
     "execution_count": 293,
     "metadata": {},
     "output_type": "execute_result"
    },
    {
     "data": {
      "image/png": "[encoded data removed]",
      "text/plain": [
       "<matplotlib.figure.Figure at 0x1a2c635668>"
      ]
     },
     "metadata": {},
     "output_type": "display_data"
    }
   ],
   "source": [
    "plt.scatter(loan['loan_amnt'],loan['int_rate'])"
   ]
  },
  {
   "cell_type": "code",
   "execution_count": 184,
   "metadata": {},
   "outputs": [],
   "source": [
    "from scipy import stats"
   ]
  },
  {
   "cell_type": "code",
   "execution_count": 185,
   "metadata": {},
   "outputs": [
    {
     "data": {
      "text/plain": [
       " 36 months    621125\n",
       " 60 months    266254\n",
       "Name: term, dtype: int64"
      ]
     },
     "execution_count": 185,
     "metadata": {},
     "output_type": "execute_result"
    }
   ],
   "source": [
    "loan['term'].value_counts()"
   ]
  },
  {
   "cell_type": "markdown",
   "metadata": {},
   "source": [
    "Interesting Monday and Friday, less loans are taked out. "
   ]
  },
  {
   "cell_type": "code",
   "execution_count": 382,
   "metadata": {},
   "outputs": [
    {
     "data": {
      "text/plain": [
       "0.0"
      ]
     },
     "execution_count": 382,
     "metadata": {},
     "output_type": "execute_result"
    }
   ],
   "source": [
    "int_36 = loan.loc[loan['term']==' 36 months', 'int_rate']\n",
    "int_60 = loan.loc[loan['term']==' 60 months', 'int_rate']\n",
    "t_test = stats.ttest_ind(int_36,int_60)\n",
    "t_test.pvalue"
   ]
  },
  {
   "cell_type": "code",
   "execution_count": 187,
   "metadata": {},
   "outputs": [],
   "source": [
    "import seaborn as sns\n",
    "sns.set_style(\"whitegrid\")\n"
   ]
  },
  {
   "cell_type": "code",
   "execution_count": 188,
   "metadata": {},
   "outputs": [
    {
     "data": {
      "image/png": "[encoded data removed]",
      "text/plain": [
       "<matplotlib.figure.Figure at 0x1a61547940>"
      ]
     },
     "metadata": {},
     "output_type": "display_data"
    }
   ],
   "source": [
    "term_plot = sns.boxplot(x='term',y='int_rate',data = loan)"
   ]
  },
  {
   "cell_type": "code",
   "execution_count": 223,
   "metadata": {},
   "outputs": [
    {
     "data": {
      "image/png": "[encoded data removed]",
      "text/plain": [
       "<matplotlib.figure.Figure at 0x1a106889b0>"
      ]
     },
     "metadata": {},
     "output_type": "display_data"
    }
   ],
   "source": [
    "initial_list_plot = sns.boxplot(x='initial_list_status',y='int_rate',data = loan)"
   ]
  },
  {
   "cell_type": "code",
   "execution_count": 224,
   "metadata": {},
   "outputs": [
    {
     "data": {
      "text/plain": [
       "Ttest_indResult(statistic=108.9911901720642, pvalue=0.0)"
      ]
     },
     "execution_count": 224,
     "metadata": {},
     "output_type": "execute_result"
    }
   ],
   "source": [
    "#t test\n",
    "int_f = loan.loc[loan['initial_list_status']=='f', 'int_rate']\n",
    "int_w = loan.loc[loan['initial_list_status']=='w', 'int_rate']\n",
    "stats.ttest_ind(int_f,int_w)"
   ]
  },
  {
   "cell_type": "markdown",
   "metadata": {},
   "source": [
    "Both term and initial list status made a difference. "
   ]
  },
  {
   "cell_type": "code",
   "execution_count": 191,
   "metadata": {},
   "outputs": [
    {
     "data": {
      "image/png": "[encoded data removed]",
      "text/plain": [
       "<matplotlib.figure.Figure at 0x1aa5e71be0>"
      ]
     },
     "metadata": {},
     "output_type": "display_data"
    }
   ],
   "source": [
    "purpose_plot = sns.boxplot(x='purpose', y='int_rate', data = loan)"
   ]
  },
  {
   "cell_type": "code",
   "execution_count": 384,
   "metadata": {},
   "outputs": [
    {
     "data": {
      "text/plain": [
       "grade\n",
       "A    weddingmajor_purchasedebt_consolidationdebt_co...\n",
       "B    credit_cardotherotherdebt_consolidationcredit_...\n",
       "C    carsmall_businessotherdebt_consolidationdebt_c...\n",
       "D    debt_consolidationotherotherdebt_consolidation...\n",
       "E    cardebt_consolidationcredit_carddebt_consolida...\n",
       "F    small_businesssmall_businessdebt_consolidation...\n",
       "G    debt_consolidationdebt_consolidationothercredi...\n",
       "Name: purpose, dtype: object"
      ]
     },
     "execution_count": 384,
     "metadata": {},
     "output_type": "execute_result"
    }
   ],
   "source": [
    "loan['purpose'].groupby(loan['grade']).sum()"
   ]
  },
  {
   "cell_type": "code",
   "execution_count": 189,
   "metadata": {},
   "outputs": [],
   "source": [
    "#one hot encoder\n",
    "label_encoder = LabelEncoder()"
   ]
  },
  {
   "cell_type": "code",
   "execution_count": 190,
   "metadata": {},
   "outputs": [],
   "source": [
    "integer_encoded = label_encoder.fit_transform(loan['purpose'])"
   ]
  },
  {
   "cell_type": "code",
   "execution_count": 80,
   "metadata": {},
   "outputs": [],
   "source": [
    "onehot_encoder = OneHotEncoder(sparse = False)"
   ]
  },
  {
   "cell_type": "code",
   "execution_count": 81,
   "metadata": {},
   "outputs": [],
   "source": [
    "integer_encoded = integer_encoded.reshape(len(integer_encoded), 1)"
   ]
  },
  {
   "cell_type": "code",
   "execution_count": 82,
   "metadata": {},
   "outputs": [],
   "source": [
    "onehot_encoded = onehot_encoder.fit_transform(integer_encoded)"
   ]
  },
  {
   "cell_type": "code",
   "execution_count": 84,
   "metadata": {},
   "outputs": [
    {
     "data": {
      "text/plain": [
       "array([[0., 1., 0., ..., 0., 0., 0.],\n",
       "       [1., 0., 0., ..., 0., 0., 0.],\n",
       "       [0., 0., 0., ..., 1., 0., 0.],\n",
       "       ...,\n",
       "       [0., 0., 1., ..., 0., 0., 0.],\n",
       "       [0., 0., 1., ..., 0., 0., 0.],\n",
       "       [0., 1., 0., ..., 0., 0., 0.]])"
      ]
     },
     "execution_count": 84,
     "metadata": {},
     "output_type": "execute_result"
    }
   ],
   "source": [
    "onehot_encoded"
   ]
  },
  {
   "cell_type": "code",
   "execution_count": 94,
   "metadata": {},
   "outputs": [
    {
     "data": {
      "text/plain": [
       "count         887379\n",
       "unique             2\n",
       "top        36 months\n",
       "freq          621125\n",
       "Name: term, dtype: object"
      ]
     },
     "execution_count": 94,
     "metadata": {},
     "output_type": "execute_result"
    }
   ],
   "source": [
    "loan['term'].describe()"
   ]
  },
  {
   "cell_type": "code",
   "execution_count": 192,
   "metadata": {
    "scrolled": true
   },
   "outputs": [
    {
     "data": {
      "text/html": [
       "<div>\n",
       "<style scoped>\n",
       "    .dataframe tbody tr th:only-of-type {\n",
       "        vertical-align: middle;\n",
       "    }\n",
       "\n",
       "    .dataframe tbody tr th {\n",
       "        vertical-align: top;\n",
       "    }\n",
       "\n",
       "    .dataframe thead th {\n",
       "        text-align: right;\n",
       "    }\n",
       "</style>\n",
       "<table border=\"1\" class=\"dataframe\">\n",
       "  <thead>\n",
       "    <tr style=\"text-align: right;\">\n",
       "      <th></th>\n",
       "      <th>term</th>\n",
       "      <th>grade</th>\n",
       "      <th>sub_grade</th>\n",
       "      <th>emp_title</th>\n",
       "      <th>emp_length</th>\n",
       "      <th>home_ownership</th>\n",
       "      <th>loan_status</th>\n",
       "      <th>pymnt_plan</th>\n",
       "      <th>purpose</th>\n",
       "      <th>title</th>\n",
       "      <th>zip_code</th>\n",
       "      <th>addr_state</th>\n",
       "      <th>earliest_cr_line</th>\n",
       "      <th>initial_list_status</th>\n",
       "      <th>last_pymnt_d</th>\n",
       "      <th>next_pymnt_d</th>\n",
       "      <th>last_credit_pull_d</th>\n",
       "      <th>application_type</th>\n",
       "    </tr>\n",
       "  </thead>\n",
       "  <tbody>\n",
       "    <tr>\n",
       "      <th>0</th>\n",
       "      <td>36 months</td>\n",
       "      <td>B</td>\n",
       "      <td>B2</td>\n",
       "      <td>36 months</td>\n",
       "      <td>10+ years</td>\n",
       "      <td>RENT</td>\n",
       "      <td>Fully Paid</td>\n",
       "      <td>n</td>\n",
       "      <td>credit_card</td>\n",
       "      <td>Computer</td>\n",
       "      <td>860xx</td>\n",
       "      <td>AZ</td>\n",
       "      <td>1985-01-01 00:00:00</td>\n",
       "      <td>f</td>\n",
       "      <td>2015-01-01 00:00:00</td>\n",
       "      <td>36 months</td>\n",
       "      <td>2016-01-01 00:00:00</td>\n",
       "      <td>INDIVIDUAL</td>\n",
       "    </tr>\n",
       "    <tr>\n",
       "      <th>1</th>\n",
       "      <td>60 months</td>\n",
       "      <td>C</td>\n",
       "      <td>C4</td>\n",
       "      <td>Ryder</td>\n",
       "      <td>&lt; 1 year</td>\n",
       "      <td>RENT</td>\n",
       "      <td>Charged Off</td>\n",
       "      <td>n</td>\n",
       "      <td>car</td>\n",
       "      <td>bike</td>\n",
       "      <td>309xx</td>\n",
       "      <td>GA</td>\n",
       "      <td>1999-04-01 00:00:00</td>\n",
       "      <td>f</td>\n",
       "      <td>2013-04-01 00:00:00</td>\n",
       "      <td>36 months</td>\n",
       "      <td>2013-09-01 00:00:00</td>\n",
       "      <td>INDIVIDUAL</td>\n",
       "    </tr>\n",
       "    <tr>\n",
       "      <th>2</th>\n",
       "      <td>36 months</td>\n",
       "      <td>C</td>\n",
       "      <td>C5</td>\n",
       "      <td>36 months</td>\n",
       "      <td>10+ years</td>\n",
       "      <td>RENT</td>\n",
       "      <td>Fully Paid</td>\n",
       "      <td>n</td>\n",
       "      <td>small_business</td>\n",
       "      <td>real estate business</td>\n",
       "      <td>606xx</td>\n",
       "      <td>IL</td>\n",
       "      <td>2001-11-01 00:00:00</td>\n",
       "      <td>f</td>\n",
       "      <td>2014-06-01 00:00:00</td>\n",
       "      <td>36 months</td>\n",
       "      <td>2016-01-01 00:00:00</td>\n",
       "      <td>INDIVIDUAL</td>\n",
       "    </tr>\n",
       "    <tr>\n",
       "      <th>3</th>\n",
       "      <td>36 months</td>\n",
       "      <td>C</td>\n",
       "      <td>C1</td>\n",
       "      <td>AIR RESOURCES BOARD</td>\n",
       "      <td>10+ years</td>\n",
       "      <td>RENT</td>\n",
       "      <td>Fully Paid</td>\n",
       "      <td>n</td>\n",
       "      <td>other</td>\n",
       "      <td>personel</td>\n",
       "      <td>917xx</td>\n",
       "      <td>CA</td>\n",
       "      <td>1996-02-01 00:00:00</td>\n",
       "      <td>f</td>\n",
       "      <td>2015-01-01 00:00:00</td>\n",
       "      <td>36 months</td>\n",
       "      <td>2015-01-01 00:00:00</td>\n",
       "      <td>INDIVIDUAL</td>\n",
       "    </tr>\n",
       "    <tr>\n",
       "      <th>4</th>\n",
       "      <td>60 months</td>\n",
       "      <td>B</td>\n",
       "      <td>B5</td>\n",
       "      <td>University Medical Group</td>\n",
       "      <td>1 year</td>\n",
       "      <td>RENT</td>\n",
       "      <td>Current</td>\n",
       "      <td>n</td>\n",
       "      <td>other</td>\n",
       "      <td>Personal</td>\n",
       "      <td>972xx</td>\n",
       "      <td>OR</td>\n",
       "      <td>1996-01-01 00:00:00</td>\n",
       "      <td>f</td>\n",
       "      <td>2016-01-01 00:00:00</td>\n",
       "      <td>2016-02-01 00:00:00</td>\n",
       "      <td>2016-01-01 00:00:00</td>\n",
       "      <td>INDIVIDUAL</td>\n",
       "    </tr>\n",
       "  </tbody>\n",
       "</table>\n",
       "</div>"
      ],
      "text/plain": [
       "         term grade sub_grade                 emp_title emp_length  \\\n",
       "0   36 months     B        B2                 36 months  10+ years   \n",
       "1   60 months     C        C4                     Ryder   < 1 year   \n",
       "2   36 months     C        C5                 36 months  10+ years   \n",
       "3   36 months     C        C1       AIR RESOURCES BOARD  10+ years   \n",
       "4   60 months     B        B5  University Medical Group     1 year   \n",
       "\n",
       "  home_ownership  loan_status pymnt_plan         purpose  \\\n",
       "0           RENT   Fully Paid          n     credit_card   \n",
       "1           RENT  Charged Off          n             car   \n",
       "2           RENT   Fully Paid          n  small_business   \n",
       "3           RENT   Fully Paid          n           other   \n",
       "4           RENT      Current          n           other   \n",
       "\n",
       "                  title zip_code addr_state     earliest_cr_line  \\\n",
       "0              Computer    860xx         AZ  1985-01-01 00:00:00   \n",
       "1                  bike    309xx         GA  1999-04-01 00:00:00   \n",
       "2  real estate business    606xx         IL  2001-11-01 00:00:00   \n",
       "3              personel    917xx         CA  1996-02-01 00:00:00   \n",
       "4              Personal    972xx         OR  1996-01-01 00:00:00   \n",
       "\n",
       "  initial_list_status         last_pymnt_d         next_pymnt_d  \\\n",
       "0                   f  2015-01-01 00:00:00            36 months   \n",
       "1                   f  2013-04-01 00:00:00            36 months   \n",
       "2                   f  2014-06-01 00:00:00            36 months   \n",
       "3                   f  2015-01-01 00:00:00            36 months   \n",
       "4                   f  2016-01-01 00:00:00  2016-02-01 00:00:00   \n",
       "\n",
       "    last_credit_pull_d application_type  \n",
       "0  2016-01-01 00:00:00       INDIVIDUAL  \n",
       "1  2013-09-01 00:00:00       INDIVIDUAL  \n",
       "2  2016-01-01 00:00:00       INDIVIDUAL  \n",
       "3  2015-01-01 00:00:00       INDIVIDUAL  \n",
       "4  2016-01-01 00:00:00       INDIVIDUAL  "
      ]
     },
     "execution_count": 192,
     "metadata": {},
     "output_type": "execute_result"
    }
   ],
   "source": [
    "obj_loan = loan.select_dtypes(include = ['object']).copy()\n",
    "obj_loan.head()"
   ]
  },
  {
   "cell_type": "code",
   "execution_count": null,
   "metadata": {},
   "outputs": [],
   "source": []
  },
  {
   "cell_type": "code",
   "execution_count": null,
   "metadata": {},
   "outputs": [],
   "source": []
  },
  {
   "cell_type": "code",
   "execution_count": null,
   "metadata": {},
   "outputs": [],
   "source": []
  },
  {
   "cell_type": "code",
   "execution_count": null,
   "metadata": {},
   "outputs": [],
   "source": []
  },
  {
   "cell_type": "code",
   "execution_count": null,
   "metadata": {},
   "outputs": [],
   "source": []
  },
  {
   "cell_type": "markdown",
   "metadata": {},
   "source": [
    "Now Let's start build some models. "
   ]
  },
  {
   "cell_type": "code",
   "execution_count": 342,
   "metadata": {},
   "outputs": [],
   "source": []
  },
  {
   "cell_type": "code",
   "execution_count": 274,
   "metadata": {},
   "outputs": [],
   "source": [
    "int_rate_sub=['int_rate', 'home_ownership', 'purpose','annual_inc', 'dti','term', 'loan_amnt', 'total_acc', 'tot_cur_bal', 'open_acc','installment']"
   ]
  },
  {
   "cell_type": "code",
   "execution_count": 275,
   "metadata": {},
   "outputs": [],
   "source": [
    "loan_int = loan[int_rate_sub]"
   ]
  },
  {
   "cell_type": "code",
   "execution_count": 276,
   "metadata": {},
   "outputs": [
    {
     "data": {
      "text/plain": [
       "int_rate          float64\n",
       "home_ownership     object\n",
       "purpose            object\n",
       "annual_inc        float64\n",
       "dti               float64\n",
       "term               object\n",
       "loan_amnt         float64\n",
       "total_acc         float64\n",
       "tot_cur_bal       float64\n",
       "open_acc          float64\n",
       "installment       float64\n",
       "dtype: object"
      ]
     },
     "execution_count": 276,
     "metadata": {},
     "output_type": "execute_result"
    }
   ],
   "source": [
    "loan_int.dtypes"
   ]
  },
  {
   "cell_type": "code",
   "execution_count": 277,
   "metadata": {},
   "outputs": [],
   "source": [
    "obj = ['home_ownership', 'purpose', 'term']"
   ]
  },
  {
   "cell_type": "code",
   "execution_count": 278,
   "metadata": {},
   "outputs": [],
   "source": [
    "loan_int_encoded = pd.get_dummies(loan_int, prefix = obj, drop_first = True)"
   ]
  },
  {
   "cell_type": "code",
   "execution_count": 279,
   "metadata": {},
   "outputs": [
    {
     "data": {
      "text/plain": [
       "array(['int_rate', 'annual_inc', 'dti', 'loan_amnt', 'total_acc',\n",
       "       'tot_cur_bal', 'open_acc', 'installment', 'home_ownership_OTHER',\n",
       "       'home_ownership_OWN', 'home_ownership_RENT', 'purpose_credit_card',\n",
       "       'purpose_debt_consolidation', 'purpose_educational',\n",
       "       'purpose_home_improvement', 'purpose_house',\n",
       "       'purpose_major_purchase', 'purpose_medical', 'purpose_moving',\n",
       "       'purpose_other', 'purpose_renewable_energy',\n",
       "       'purpose_small_business', 'purpose_vacation', 'purpose_wedding',\n",
       "       'term_ 60 months'], dtype=object)"
      ]
     },
     "execution_count": 279,
     "metadata": {},
     "output_type": "execute_result"
    }
   ],
   "source": [
    "loan_int_encoded.columns.values"
   ]
  },
  {
   "cell_type": "code",
   "execution_count": 377,
   "metadata": {},
   "outputs": [],
   "source": [
    "y = loan_int_encoded['int_rate']\n",
    "x = loan_int_encoded[[x for x in loan_int_encoded.columns.values if x != 'int_rate']]\n",
    "X_train, X_test, y_train, y_test = train_test_split(x, y, random_state=0)\n"
   ]
  },
  {
   "cell_type": "code",
   "execution_count": 378,
   "metadata": {},
   "outputs": [],
   "source": [
    "from sklearn import preprocessing\n",
    "X_train_scale = preprocessing.scale(X_train)\n",
    "X_test_scale = preprocessing.scale(X_test)"
   ]
  },
  {
   "cell_type": "code",
   "execution_count": 379,
   "metadata": {},
   "outputs": [],
   "source": [
    "from sklearn.linear_model import LinearRegression\n",
    "from sklearn.preprocessing import LabelEncoder\n",
    "from sklearn.preprocessing import OneHotEncoder"
   ]
  },
  {
   "cell_type": "markdown",
   "metadata": {},
   "source": [
    "Many features are catogorical and in order to put them into linear regression we need to one hot encode them "
   ]
  },
  {
   "cell_type": "code",
   "execution_count": 282,
   "metadata": {},
   "outputs": [
    {
     "data": {
      "text/plain": [
       "LinearRegression(copy_X=True, fit_intercept=True, n_jobs=1, normalize=False)"
      ]
     },
     "execution_count": 282,
     "metadata": {},
     "output_type": "execute_result"
    }
   ],
   "source": [
    "clf = LinearRegression()\n",
    "clf.fit(X_train, y_train)"
   ]
  },
  {
   "cell_type": "code",
   "execution_count": 283,
   "metadata": {},
   "outputs": [],
   "source": [
    "y_pred = clf.predict(X_test)"
   ]
  },
  {
   "cell_type": "code",
   "execution_count": 284,
   "metadata": {},
   "outputs": [
    {
     "name": "stdout",
     "output_type": "stream",
     "text": [
      "Linear Regression r2: 0.5275, MSE: 0.5275, RSS:0.5275\n"
     ]
    }
   ],
   "source": [
    "from sklearn.metrics import r2_score, f1_score, mean_squared_error\n",
    "rss = sum((y_pred-y_test)**2)\n",
    "print('Linear Regression r2: {0:.4f}, MSE: {0:.4f}, RSS:{0:.4f}'.format(r2_score(y_test,y_pred),mean_squared_error(y_test,y_pred),rss))"
   ]
  },
  {
   "cell_type": "markdown",
   "metadata": {},
   "source": [
    "Next we use lasso to regularize features"
   ]
  },
  {
   "cell_type": "code",
   "execution_count": 285,
   "metadata": {},
   "outputs": [],
   "source": [
    "from sklearn.linear_model import Lasso"
   ]
  },
  {
   "cell_type": "code",
   "execution_count": null,
   "metadata": {},
   "outputs": [],
   "source": []
  },
  {
   "cell_type": "code",
   "execution_count": 294,
   "metadata": {},
   "outputs": [],
   "source": [
    "\n",
    "def lasso_regression(X_train, y_train, X_test, y_test, alpha, models_to_plot={}):\n",
    "    lassoreg = Lasso(alpha=alpha,normalize=True, max_iter=1e5)\n",
    "    lassoreg.fit(X_train, y_train)\n",
    "    y_pred = lassoreg.predict(X_test)   \n",
    "        #Return the result in pre-defined format\n",
    "        \n",
    "    rss = r2_score(y_test,y_pred)#sum((y_pred-y_test)**2)\n",
    "    mse = mean_squared_error(y_test,y_pred)\n",
    "    ret = [mse, rss]\n",
    "    ret.extend([lassoreg.intercept_])\n",
    "    ret.extend(lassoreg.coef_)\n",
    "    return ret\n"
   ]
  },
  {
   "cell_type": "code",
   "execution_count": 295,
   "metadata": {},
   "outputs": [],
   "source": [
    "alpha_lasso = [1e-8,1e-7, 1e-6,2*1e-6,1e-5,2*1e-5, 1e-4, 2*1e-4,1e-3,1e-2 ]"
   ]
  },
  {
   "cell_type": "code",
   "execution_count": 380,
   "metadata": {},
   "outputs": [],
   "source": [
    "col = ['mse','r2','intercept'] + ['coef_x_%s'%i for i in X_train.columns.values if i != 'int_rate']\n",
    "ind = ['alpha_%.2g'%alpha_lasso[i] for i in range(0,10)]\n",
    "coef_matrix_lasso = pd.DataFrame(index=ind, columns=col)\n",
    "for i in range(10):\n",
    "    coef_matrix_lasso.iloc[i,] = lasso_regression(X_train_scale, y_train, X_test_scale, y_test, alpha_lasso[i])\n",
    "    \n",
    "    \n",
    "    \n",
    "    \n",
    "    "
   ]
  },
  {
   "cell_type": "code",
   "execution_count": 381,
   "metadata": {},
   "outputs": [
    {
     "data": {
      "text/html": [
       "<div>\n",
       "<style scoped>\n",
       "    .dataframe tbody tr th:only-of-type {\n",
       "        vertical-align: middle;\n",
       "    }\n",
       "\n",
       "    .dataframe tbody tr th {\n",
       "        vertical-align: top;\n",
       "    }\n",
       "\n",
       "    .dataframe thead th {\n",
       "        text-align: right;\n",
       "    }\n",
       "</style>\n",
       "<table border=\"1\" class=\"dataframe\">\n",
       "  <thead>\n",
       "    <tr style=\"text-align: right;\">\n",
       "      <th></th>\n",
       "      <th>mse</th>\n",
       "      <th>r2</th>\n",
       "      <th>intercept</th>\n",
       "      <th>coef_x_annual_inc</th>\n",
       "      <th>coef_x_dti</th>\n",
       "      <th>coef_x_loan_amnt</th>\n",
       "      <th>coef_x_total_acc</th>\n",
       "      <th>coef_x_tot_cur_bal</th>\n",
       "      <th>coef_x_open_acc</th>\n",
       "      <th>coef_x_installment</th>\n",
       "      <th>...</th>\n",
       "      <th>coef_x_purpose_house</th>\n",
       "      <th>coef_x_purpose_major_purchase</th>\n",
       "      <th>coef_x_purpose_medical</th>\n",
       "      <th>coef_x_purpose_moving</th>\n",
       "      <th>coef_x_purpose_other</th>\n",
       "      <th>coef_x_purpose_renewable_energy</th>\n",
       "      <th>coef_x_purpose_small_business</th>\n",
       "      <th>coef_x_purpose_vacation</th>\n",
       "      <th>coef_x_purpose_wedding</th>\n",
       "      <th>coef_x_term_ 60 months</th>\n",
       "    </tr>\n",
       "  </thead>\n",
       "  <tbody>\n",
       "    <tr>\n",
       "      <th>alpha_1e-08</th>\n",
       "      <td>9.0415</td>\n",
       "      <td>0.529588</td>\n",
       "      <td>13.2458</td>\n",
       "      <td>-0.193195</td>\n",
       "      <td>0.157707</td>\n",
       "      <td>-12.961</td>\n",
       "      <td>-0.212651</td>\n",
       "      <td>-0.152375</td>\n",
       "      <td>0.0580092</td>\n",
       "      <td>12.2768</td>\n",
       "      <td>...</td>\n",
       "      <td>0.167336</td>\n",
       "      <td>0.0929361</td>\n",
       "      <td>0.243964</td>\n",
       "      <td>0.279803</td>\n",
       "      <td>0.545394</td>\n",
       "      <td>0.0806795</td>\n",
       "      <td>0.289882</td>\n",
       "      <td>0.223212</td>\n",
       "      <td>0.0959309</td>\n",
       "      <td>5.50822</td>\n",
       "    </tr>\n",
       "    <tr>\n",
       "      <th>alpha_1e-07</th>\n",
       "      <td>9.04146</td>\n",
       "      <td>0.52959</td>\n",
       "      <td>13.2458</td>\n",
       "      <td>-0.193203</td>\n",
       "      <td>0.157687</td>\n",
       "      <td>-12.9556</td>\n",
       "      <td>-0.212458</td>\n",
       "      <td>-0.152462</td>\n",
       "      <td>0.0577974</td>\n",
       "      <td>12.2719</td>\n",
       "      <td>...</td>\n",
       "      <td>0.166731</td>\n",
       "      <td>0.0916701</td>\n",
       "      <td>0.243063</td>\n",
       "      <td>0.279071</td>\n",
       "      <td>0.543524</td>\n",
       "      <td>0.0803891</td>\n",
       "      <td>0.288932</td>\n",
       "      <td>0.222506</td>\n",
       "      <td>0.0954248</td>\n",
       "      <td>5.50661</td>\n",
       "    </tr>\n",
       "    <tr>\n",
       "      <th>alpha_1e-06</th>\n",
       "      <td>9.04121</td>\n",
       "      <td>0.529603</td>\n",
       "      <td>13.2458</td>\n",
       "      <td>-0.193282</td>\n",
       "      <td>0.157478</td>\n",
       "      <td>-12.9009</td>\n",
       "      <td>-0.210527</td>\n",
       "      <td>-0.153333</td>\n",
       "      <td>0.0556801</td>\n",
       "      <td>12.2224</td>\n",
       "      <td>...</td>\n",
       "      <td>0.160673</td>\n",
       "      <td>0.0790107</td>\n",
       "      <td>0.234061</td>\n",
       "      <td>0.271747</td>\n",
       "      <td>0.524823</td>\n",
       "      <td>0.0774848</td>\n",
       "      <td>0.279434</td>\n",
       "      <td>0.215447</td>\n",
       "      <td>0.0903643</td>\n",
       "      <td>5.49062</td>\n",
       "    </tr>\n",
       "    <tr>\n",
       "      <th>alpha_2e-06</th>\n",
       "      <td>9.04133</td>\n",
       "      <td>0.529597</td>\n",
       "      <td>13.2458</td>\n",
       "      <td>-0.193368</td>\n",
       "      <td>0.157246</td>\n",
       "      <td>-12.8402</td>\n",
       "      <td>-0.208382</td>\n",
       "      <td>-0.1543</td>\n",
       "      <td>0.0533271</td>\n",
       "      <td>12.1674</td>\n",
       "      <td>...</td>\n",
       "      <td>0.153942</td>\n",
       "      <td>0.0649455</td>\n",
       "      <td>0.224058</td>\n",
       "      <td>0.26361</td>\n",
       "      <td>0.504045</td>\n",
       "      <td>0.0742578</td>\n",
       "      <td>0.26888</td>\n",
       "      <td>0.207604</td>\n",
       "      <td>0.0847417</td>\n",
       "      <td>5.47287</td>\n",
       "    </tr>\n",
       "    <tr>\n",
       "      <th>alpha_1e-05</th>\n",
       "      <td>9.0541</td>\n",
       "      <td>0.528933</td>\n",
       "      <td>13.2458</td>\n",
       "      <td>-0.194088</td>\n",
       "      <td>0.155359</td>\n",
       "      <td>-12.3584</td>\n",
       "      <td>-0.191134</td>\n",
       "      <td>-0.161942</td>\n",
       "      <td>0.0343909</td>\n",
       "      <td>11.7301</td>\n",
       "      <td>...</td>\n",
       "      <td>0.11481</td>\n",
       "      <td>-0.000176863</td>\n",
       "      <td>0.166175</td>\n",
       "      <td>0.216309</td>\n",
       "      <td>0.386576</td>\n",
       "      <td>0.0543236</td>\n",
       "      <td>0.208972</td>\n",
       "      <td>0.161508</td>\n",
       "      <td>0.0514341</td>\n",
       "      <td>5.33178</td>\n",
       "    </tr>\n",
       "    <tr>\n",
       "      <th>alpha_2e-05</th>\n",
       "      <td>9.08713</td>\n",
       "      <td>0.527214</td>\n",
       "      <td>13.2458</td>\n",
       "      <td>-0.194871</td>\n",
       "      <td>0.15255</td>\n",
       "      <td>-11.7593</td>\n",
       "      <td>-0.169926</td>\n",
       "      <td>-0.171273</td>\n",
       "      <td>0.0102914</td>\n",
       "      <td>11.1833</td>\n",
       "      <td>...</td>\n",
       "      <td>0.100211</td>\n",
       "      <td>-0.0124346</td>\n",
       "      <td>0.145398</td>\n",
       "      <td>0.198461</td>\n",
       "      <td>0.35329</td>\n",
       "      <td>0.0431049</td>\n",
       "      <td>0.191374</td>\n",
       "      <td>0.142589</td>\n",
       "      <td>0.0369417</td>\n",
       "      <td>5.15592</td>\n",
       "    </tr>\n",
       "    <tr>\n",
       "      <th>alpha_0.0001</th>\n",
       "      <td>10.1528</td>\n",
       "      <td>0.471771</td>\n",
       "      <td>13.2458</td>\n",
       "      <td>-0.194652</td>\n",
       "      <td>0.113987</td>\n",
       "      <td>-6.96474</td>\n",
       "      <td>-0.126684</td>\n",
       "      <td>-0.241896</td>\n",
       "      <td>-0</td>\n",
       "      <td>6.78501</td>\n",
       "      <td>...</td>\n",
       "      <td>0.0531405</td>\n",
       "      <td>-0</td>\n",
       "      <td>0.0826345</td>\n",
       "      <td>0.138855</td>\n",
       "      <td>0.315408</td>\n",
       "      <td>0</td>\n",
       "      <td>0.167718</td>\n",
       "      <td>0.0687892</td>\n",
       "      <td>0</td>\n",
       "      <td>3.74608</td>\n",
       "    </tr>\n",
       "    <tr>\n",
       "      <th>alpha_0.0002</th>\n",
       "      <td>13.4884</td>\n",
       "      <td>0.298222</td>\n",
       "      <td>13.2458</td>\n",
       "      <td>-0.195568</td>\n",
       "      <td>0.0647258</td>\n",
       "      <td>-0.964064</td>\n",
       "      <td>-0.0798771</td>\n",
       "      <td>-0.321752</td>\n",
       "      <td>-0</td>\n",
       "      <td>1.28273</td>\n",
       "      <td>...</td>\n",
       "      <td>0</td>\n",
       "      <td>-0</td>\n",
       "      <td>0.00481674</td>\n",
       "      <td>0.0648528</td>\n",
       "      <td>0.269042</td>\n",
       "      <td>0</td>\n",
       "      <td>0.138829</td>\n",
       "      <td>0</td>\n",
       "      <td>0</td>\n",
       "      <td>1.98411</td>\n",
       "    </tr>\n",
       "    <tr>\n",
       "      <th>alpha_0.001</th>\n",
       "      <td>16.3677</td>\n",
       "      <td>0.14842</td>\n",
       "      <td>13.2458</td>\n",
       "      <td>-0</td>\n",
       "      <td>0</td>\n",
       "      <td>0</td>\n",
       "      <td>-0</td>\n",
       "      <td>-0</td>\n",
       "      <td>-0</td>\n",
       "      <td>0</td>\n",
       "      <td>...</td>\n",
       "      <td>0</td>\n",
       "      <td>-0</td>\n",
       "      <td>0</td>\n",
       "      <td>0</td>\n",
       "      <td>0</td>\n",
       "      <td>0</td>\n",
       "      <td>0</td>\n",
       "      <td>0</td>\n",
       "      <td>0</td>\n",
       "      <td>1.05989</td>\n",
       "    </tr>\n",
       "    <tr>\n",
       "      <th>alpha_0.01</th>\n",
       "      <td>19.2204</td>\n",
       "      <td>-7.48123e-07</td>\n",
       "      <td>13.2458</td>\n",
       "      <td>-0</td>\n",
       "      <td>0</td>\n",
       "      <td>0</td>\n",
       "      <td>-0</td>\n",
       "      <td>-0</td>\n",
       "      <td>-0</td>\n",
       "      <td>0</td>\n",
       "      <td>...</td>\n",
       "      <td>0</td>\n",
       "      <td>-0</td>\n",
       "      <td>0</td>\n",
       "      <td>0</td>\n",
       "      <td>0</td>\n",
       "      <td>0</td>\n",
       "      <td>0</td>\n",
       "      <td>0</td>\n",
       "      <td>0</td>\n",
       "      <td>0</td>\n",
       "    </tr>\n",
       "  </tbody>\n",
       "</table>\n",
       "<p>10 rows × 27 columns</p>\n",
       "</div>"
      ],
      "text/plain": [
       "                  mse           r2 intercept coef_x_annual_inc coef_x_dti  \\\n",
       "alpha_1e-08    9.0415     0.529588   13.2458         -0.193195   0.157707   \n",
       "alpha_1e-07   9.04146      0.52959   13.2458         -0.193203   0.157687   \n",
       "alpha_1e-06   9.04121     0.529603   13.2458         -0.193282   0.157478   \n",
       "alpha_2e-06   9.04133     0.529597   13.2458         -0.193368   0.157246   \n",
       "alpha_1e-05    9.0541     0.528933   13.2458         -0.194088   0.155359   \n",
       "alpha_2e-05   9.08713     0.527214   13.2458         -0.194871    0.15255   \n",
       "alpha_0.0001  10.1528     0.471771   13.2458         -0.194652   0.113987   \n",
       "alpha_0.0002  13.4884     0.298222   13.2458         -0.195568  0.0647258   \n",
       "alpha_0.001   16.3677      0.14842   13.2458                -0          0   \n",
       "alpha_0.01    19.2204 -7.48123e-07   13.2458                -0          0   \n",
       "\n",
       "             coef_x_loan_amnt coef_x_total_acc coef_x_tot_cur_bal  \\\n",
       "alpha_1e-08           -12.961        -0.212651          -0.152375   \n",
       "alpha_1e-07          -12.9556        -0.212458          -0.152462   \n",
       "alpha_1e-06          -12.9009        -0.210527          -0.153333   \n",
       "alpha_2e-06          -12.8402        -0.208382            -0.1543   \n",
       "alpha_1e-05          -12.3584        -0.191134          -0.161942   \n",
       "alpha_2e-05          -11.7593        -0.169926          -0.171273   \n",
       "alpha_0.0001         -6.96474        -0.126684          -0.241896   \n",
       "alpha_0.0002        -0.964064       -0.0798771          -0.321752   \n",
       "alpha_0.001                 0               -0                 -0   \n",
       "alpha_0.01                  0               -0                 -0   \n",
       "\n",
       "             coef_x_open_acc coef_x_installment          ...            \\\n",
       "alpha_1e-08        0.0580092            12.2768          ...             \n",
       "alpha_1e-07        0.0577974            12.2719          ...             \n",
       "alpha_1e-06        0.0556801            12.2224          ...             \n",
       "alpha_2e-06        0.0533271            12.1674          ...             \n",
       "alpha_1e-05        0.0343909            11.7301          ...             \n",
       "alpha_2e-05        0.0102914            11.1833          ...             \n",
       "alpha_0.0001              -0            6.78501          ...             \n",
       "alpha_0.0002              -0            1.28273          ...             \n",
       "alpha_0.001               -0                  0          ...             \n",
       "alpha_0.01                -0                  0          ...             \n",
       "\n",
       "             coef_x_purpose_house coef_x_purpose_major_purchase  \\\n",
       "alpha_1e-08              0.167336                     0.0929361   \n",
       "alpha_1e-07              0.166731                     0.0916701   \n",
       "alpha_1e-06              0.160673                     0.0790107   \n",
       "alpha_2e-06              0.153942                     0.0649455   \n",
       "alpha_1e-05               0.11481                  -0.000176863   \n",
       "alpha_2e-05              0.100211                    -0.0124346   \n",
       "alpha_0.0001            0.0531405                            -0   \n",
       "alpha_0.0002                    0                            -0   \n",
       "alpha_0.001                     0                            -0   \n",
       "alpha_0.01                      0                            -0   \n",
       "\n",
       "             coef_x_purpose_medical coef_x_purpose_moving  \\\n",
       "alpha_1e-08                0.243964              0.279803   \n",
       "alpha_1e-07                0.243063              0.279071   \n",
       "alpha_1e-06                0.234061              0.271747   \n",
       "alpha_2e-06                0.224058               0.26361   \n",
       "alpha_1e-05                0.166175              0.216309   \n",
       "alpha_2e-05                0.145398              0.198461   \n",
       "alpha_0.0001              0.0826345              0.138855   \n",
       "alpha_0.0002             0.00481674             0.0648528   \n",
       "alpha_0.001                       0                     0   \n",
       "alpha_0.01                        0                     0   \n",
       "\n",
       "             coef_x_purpose_other coef_x_purpose_renewable_energy  \\\n",
       "alpha_1e-08              0.545394                       0.0806795   \n",
       "alpha_1e-07              0.543524                       0.0803891   \n",
       "alpha_1e-06              0.524823                       0.0774848   \n",
       "alpha_2e-06              0.504045                       0.0742578   \n",
       "alpha_1e-05              0.386576                       0.0543236   \n",
       "alpha_2e-05               0.35329                       0.0431049   \n",
       "alpha_0.0001             0.315408                               0   \n",
       "alpha_0.0002             0.269042                               0   \n",
       "alpha_0.001                     0                               0   \n",
       "alpha_0.01                      0                               0   \n",
       "\n",
       "             coef_x_purpose_small_business coef_x_purpose_vacation  \\\n",
       "alpha_1e-08                       0.289882                0.223212   \n",
       "alpha_1e-07                       0.288932                0.222506   \n",
       "alpha_1e-06                       0.279434                0.215447   \n",
       "alpha_2e-06                        0.26888                0.207604   \n",
       "alpha_1e-05                       0.208972                0.161508   \n",
       "alpha_2e-05                       0.191374                0.142589   \n",
       "alpha_0.0001                      0.167718               0.0687892   \n",
       "alpha_0.0002                      0.138829                       0   \n",
       "alpha_0.001                              0                       0   \n",
       "alpha_0.01                               0                       0   \n",
       "\n",
       "             coef_x_purpose_wedding coef_x_term_ 60 months  \n",
       "alpha_1e-08               0.0959309                5.50822  \n",
       "alpha_1e-07               0.0954248                5.50661  \n",
       "alpha_1e-06               0.0903643                5.49062  \n",
       "alpha_2e-06               0.0847417                5.47287  \n",
       "alpha_1e-05               0.0514341                5.33178  \n",
       "alpha_2e-05               0.0369417                5.15592  \n",
       "alpha_0.0001                      0                3.74608  \n",
       "alpha_0.0002                      0                1.98411  \n",
       "alpha_0.001                       0                1.05989  \n",
       "alpha_0.01                        0                      0  \n",
       "\n",
       "[10 rows x 27 columns]"
      ]
     },
     "execution_count": 381,
     "metadata": {},
     "output_type": "execute_result"
    }
   ],
   "source": [
    "coef_matrix_lasso\n"
   ]
  },
  {
   "cell_type": "markdown",
   "metadata": {},
   "source": [
    "We see that starts from 1e-5, that coefficient starts to disappear "
   ]
  },
  {
   "cell_type": "code",
   "execution_count": 300,
   "metadata": {},
   "outputs": [
    {
     "data": {
      "text/plain": [
       "Text(0,0.5,'parameter')"
      ]
     },
     "execution_count": 300,
     "metadata": {},
     "output_type": "execute_result"
    },
    {
     "data": {
      "image/png": "[encoded data removed]",
      "text/plain": [
       "<matplotlib.figure.Figure at 0x1a2c5fa898>"
      ]
     },
     "metadata": {},
     "output_type": "display_data"
    }
   ],
   "source": [
    "import math\n",
    "log_lasso = [math.log(x) for x in alpha_lasso]\n",
    "plt.plot(log_lasso, coef_matrix_lasso.drop(coef_matrix_lasso.columns[[0,1,2]],axis = 1))\n",
    "plt.xlabel('log lambda')\n",
    "plt.ylabel('parameter')\n"
   ]
  },
  {
   "cell_type": "code",
   "execution_count": 301,
   "metadata": {},
   "outputs": [
    {
     "data": {
      "text/plain": [
       "Text(0,0.5,'MSE')"
      ]
     },
     "execution_count": 301,
     "metadata": {},
     "output_type": "execute_result"
    },
    {
     "data": {
      "image/png": "[encoded data removed]",
      "text/plain": [
       "<matplotlib.figure.Figure at 0x1a74e73978>"
      ]
     },
     "metadata": {},
     "output_type": "display_data"
    }
   ],
   "source": [
    "plt.plot(log_lasso, coef_matrix_lasso['mse'])\n",
    "plt.xlabel('log lambda')\n",
    "plt.ylabel('MSE')"
   ]
  },
  {
   "cell_type": "code",
   "execution_count": 291,
   "metadata": {
    "scrolled": true
   },
   "outputs": [
    {
     "data": {
      "text/plain": [
       "r2                                   0\n",
       "intercept                            0\n",
       "coef_x_term_ 60 months               1\n",
       "coef_x_dti                           2\n",
       "coef_x_purpose_small_business        2\n",
       "coef_x_purpose_other                 2\n",
       "coef_x_purpose_moving                2\n",
       "coef_x_purpose_medical               2\n",
       "coef_x_annual_inc                    2\n",
       "coef_x_home_ownership_RENT           2\n",
       "coef_x_purpose_credit_card           2\n",
       "coef_x_installment                   2\n",
       "coef_x_tot_cur_bal                   2\n",
       "coef_x_total_acc                     2\n",
       "coef_x_loan_amnt                     2\n",
       "coef_x_purpose_house                 3\n",
       "coef_x_purpose_vacation              3\n",
       "coef_x_home_ownership_OTHER          4\n",
       "coef_x_purpose_wedding               4\n",
       "coef_x_purpose_major_purchase        4\n",
       "coef_x_open_acc                      4\n",
       "coef_x_purpose_renewable_energy      4\n",
       "coef_x_home_ownership_OWN            4\n",
       "coef_x_purpose_debt_consolidation    5\n",
       "coef_x_purpose_home_improvement      5\n",
       "coef_x_purpose_educational           6\n",
       "dtype: int64"
      ]
     },
     "execution_count": 291,
     "metadata": {},
     "output_type": "execute_result"
    }
   ],
   "source": [
    "# this shows the order when features are supress, bigger number means early supressed. \n",
    "(coef_matrix_lasso == 0).astype(int).sum().sort_values()"
   ]
  },
  {
   "cell_type": "markdown",
   "metadata": {},
   "source": [
    "Here we learned that the most important features are term, dti, total_account, total current balance, purpose, home ownership, installment, annual income and loan amount. "
   ]
  },
  {
   "cell_type": "code",
   "execution_count": 273,
   "metadata": {},
   "outputs": [
    {
     "data": {
      "text/plain": [
       "Lasso(alpha=1e-05, copy_X=True, fit_intercept=True, max_iter=100000.0,\n",
       "   normalize=True, positive=False, precompute=False, random_state=None,\n",
       "   selection='cyclic', tol=0.0001, warm_start=False)"
      ]
     },
     "execution_count": 273,
     "metadata": {},
     "output_type": "execute_result"
    }
   ],
   "source": [
    "#Final Lasso\n",
    "lassoreg = Lasso(alpha=0.0001,normalize=True, max_iter=1e5)\n",
    "lassoreg.fit(X_train, y_train)"
   ]
  },
  {
   "cell_type": "code",
   "execution_count": null,
   "metadata": {},
   "outputs": [],
   "source": []
  },
  {
   "cell_type": "code",
   "execution_count": 349,
   "metadata": {},
   "outputs": [],
   "source": [
    "#log int rate\n",
    "loan['log_int_rate']= loan['int_rate'].apply([lambda x: math.log(x)])\n",
    "log_int_rate_sub=['log_int_rate', 'home_ownership', 'purpose','annual_inc', 'dti','term', 'loan_amnt', 'total_acc', 'tot_cur_bal', 'open_acc','installment']\n",
    "\n",
    "y = loan['log_int_rate']\n",
    "x = loan_int_encoded[[x for x in loan_int_encoded.columns.values if x != 'int_rate']]\n",
    "X_train, X_test, y_train, y_test = train_test_split(x, y, random_state=0)\n",
    "\n",
    "\n",
    "\n",
    "\n"
   ]
  },
  {
   "cell_type": "code",
   "execution_count": 351,
   "metadata": {},
   "outputs": [],
   "source": [
    "clf = LinearRegression()\n",
    "clf.fit(X_train, y_train)\n",
    "y_pred = clf.predict(X_test)"
   ]
  },
  {
   "cell_type": "code",
   "execution_count": 352,
   "metadata": {},
   "outputs": [
    {
     "name": "stdout",
     "output_type": "stream",
     "text": [
      "Linear Regression r2: 0.4844, MSE: 0.4844, RSS:0.4844\n"
     ]
    }
   ],
   "source": [
    "rss = sum((y_pred-y_test)**2)\n",
    "print('Linear Regression r2: {0:.4f}, MSE: {0:.4f}, RSS:{0:.4f}'.format(r2_score(y_test,y_pred),mean_squared_error(y_test,y_pred),rss))"
   ]
  },
  {
   "cell_type": "code",
   "execution_count": 363,
   "metadata": {},
   "outputs": [],
   "source": [
    "#log annual income, currentl tot balance \n",
    "int_rate_sub=['log_int_rate', 'home_ownership', 'purpose','log_annual_inc', 'dti','term', 'loan_amnt', 'total_acc', 'log_tot_cur_bal', 'open_acc','installment']\n",
    "loan_logint = loan[int_rate_sub]\n",
    "loan_logint_encoded = pd.get_dummies(loan_logint, prefix = obj, drop_first = True)\n"
   ]
  },
  {
   "cell_type": "code",
   "execution_count": 365,
   "metadata": {},
   "outputs": [],
   "source": [
    "y = loan['log_int_rate']\n",
    "\n",
    "x = loan_logint_encoded[[x for x in loan_logint_encoded.columns.values if x != 'log_int_rate']]\n",
    "X_train, X_test, y_train, y_test = train_test_split(x, y, random_state=0)\n"
   ]
  },
  {
   "cell_type": "code",
   "execution_count": 366,
   "metadata": {},
   "outputs": [
    {
     "name": "stdout",
     "output_type": "stream",
     "text": [
      "Linear Regression r2: 0.4965, MSE: 0.4965, RSS:0.4965\n"
     ]
    }
   ],
   "source": [
    "clf = LinearRegression()\n",
    "clf.fit(X_train, y_train)\n",
    "y_pred = clf.predict(X_test)\n",
    "rss = sum((y_pred-y_test)**2)\n",
    "print('Linear Regression r2: {0:.4f}, MSE: {0:.4f}, RSS:{0:.4f}'.format(r2_score(y_test,y_pred),mean_squared_error(y_test,y_pred),rss))"
   ]
  },
  {
   "cell_type": "markdown",
   "metadata": {},
   "source": [
    "## Predicting Grade "
   ]
  },
  {
   "cell_type": "code",
   "execution_count": 368,
   "metadata": {},
   "outputs": [],
   "source": [
    "#logistic regression\n",
    "\n",
    "\n",
    "Grade_sub = loan_logint_encoded[[x for x in loan_logint_encoded.columns.values if x != 'log_int_rate']]\n",
    "y = loan['grade']\n",
    "x = Grade_sub\n",
    "X_train, X_test, y_train, y_test = train_test_split(x, y, random_state=0)\n"
   ]
  },
  {
   "cell_type": "code",
   "execution_count": 369,
   "metadata": {},
   "outputs": [
    {
     "data": {
      "text/plain": [
       "<matplotlib.collections.PathCollection at 0x1a61188a90>"
      ]
     },
     "execution_count": 369,
     "metadata": {},
     "output_type": "execute_result"
    },
    {
     "data": {
      "image/png": "[encoded data removed]",
      "text/plain": [
       "<matplotlib.figure.Figure at 0x1a6fa5e320>"
      ]
     },
     "metadata": {},
     "output_type": "display_data"
    }
   ],
   "source": [
    "plt.scatter(loan['grade'],loan['int_rate'])"
   ]
  },
  {
   "cell_type": "code",
   "execution_count": 312,
   "metadata": {},
   "outputs": [
    {
     "data": {
      "text/plain": [
       "B    254535\n",
       "C    245860\n",
       "A    148202\n",
       "D    139542\n",
       "E     70705\n",
       "F     23046\n",
       "G      5489\n",
       "Name: grade, dtype: int64"
      ]
     },
     "execution_count": 312,
     "metadata": {},
     "output_type": "execute_result"
    }
   ],
   "source": [
    "loan['grade'].value_counts()"
   ]
  },
  {
   "cell_type": "code",
   "execution_count": 321,
   "metadata": {},
   "outputs": [
    {
     "data": {
      "text/plain": [
       "<matplotlib.legend.Legend at 0x1a6f87ba58>"
      ]
     },
     "execution_count": 321,
     "metadata": {},
     "output_type": "execute_result"
    },
    {
     "data": {
      "image/png": "[encoded data removed]",
      "text/plain": [
       "<matplotlib.figure.Figure at 0x1a74f49908>"
      ]
     },
     "metadata": {},
     "output_type": "display_data"
    }
   ],
   "source": [
    "plt.scatter(loan[loan['grade']=='A']['loan_amnt'][::1000], loan[loan['grade']=='A']['int_rate'][::1000],label='A',c='purple')\n",
    "sns.regplot(loan[loan['grade']=='B']['loan_amnt'][::1000], loan[loan['grade']=='B']['int_rate'][::1000],label = 'B',fit_reg=False)\n",
    "sns.regplot(loan[loan['grade']=='C']['loan_amnt'][::1000], loan[loan['grade']=='C']['int_rate'][::1000],label = 'C',fit_reg=False)\n",
    "sns.regplot(loan[loan['grade']=='D']['loan_amnt'][::1000], loan[loan['grade']=='D']['int_rate'][::1000],label = 'D',fit_reg=False)\n",
    "sns.regplot(loan[loan['grade']=='E']['loan_amnt'][::500], loan[loan['grade']=='E']['int_rate'][::500],label = 'E',fit_reg=False)\n",
    "sns.regplot(loan[loan['grade']=='F']['loan_amnt'][::100], loan[loan['grade']=='F']['int_rate'][::100],label = 'F',fit_reg=False)\n",
    "sns.regplot(loan[loan['grade']=='G']['loan_amnt'][::50], loan[loan['grade']=='G']['int_rate'][::50],label = 'G',fit_reg=False)\n",
    "plt.xlim(0,45000)\n",
    "plt.legend()\n",
    "\n",
    "\n",
    "\n"
   ]
  },
  {
   "cell_type": "markdown",
   "metadata": {},
   "source": [
    "There is a Strong correlation between grade and interst rate, so predicting the grade can also be a good metrics"
   ]
  },
  {
   "cell_type": "code",
   "execution_count": 370,
   "metadata": {},
   "outputs": [
    {
     "name": "stderr",
     "output_type": "stream",
     "text": [
      "/Volumes/Data/Anaconda/anaconda3/lib/python3.6/site-packages/sklearn/utils/optimize.py:203: ConvergenceWarning: newton-cg failed to converge. Increase the number of iterations.\n",
      "  \"number of iterations.\", ConvergenceWarning)\n"
     ]
    }
   ],
   "source": [
    "clf = LogisticRegression(multi_class='multinomial', solver='newton-cg').fit(X_train, y_train)"
   ]
  },
  {
   "cell_type": "code",
   "execution_count": 371,
   "metadata": {},
   "outputs": [],
   "source": [
    "y_pred = clf.predict(X_test)"
   ]
  },
  {
   "cell_type": "code",
   "execution_count": 372,
   "metadata": {},
   "outputs": [
    {
     "data": {
      "text/plain": [
       "0.4758141945953256"
      ]
     },
     "execution_count": 372,
     "metadata": {},
     "output_type": "execute_result"
    }
   ],
   "source": [
    "from sklearn import metrics\n",
    "metrics.accuracy_score(y_test, y_pred)"
   ]
  },
  {
   "cell_type": "code",
   "execution_count": null,
   "metadata": {},
   "outputs": [],
   "source": []
  },
  {
   "cell_type": "code",
   "execution_count": null,
   "metadata": {},
   "outputs": [],
   "source": []
  },
  {
   "cell_type": "code",
   "execution_count": null,
   "metadata": {},
   "outputs": [],
   "source": []
  },
  {
   "cell_type": "code",
   "execution_count": null,
   "metadata": {},
   "outputs": [],
   "source": []
  },
  {
   "cell_type": "code",
   "execution_count": null,
   "metadata": {},
   "outputs": [],
   "source": []
  },
  {
   "cell_type": "markdown",
   "metadata": {},
   "source": [
    "# On the bank side I would like to predice weather a loan will charge off\n"
   ]
  },
  {
   "cell_type": "code",
   "execution_count": 143,
   "metadata": {},
   "outputs": [
    {
     "data": {
      "text/plain": [
       "count      887379\n",
       "unique         10\n",
       "top       Current\n",
       "freq       601779\n",
       "Name: loan_status, dtype: object"
      ]
     },
     "execution_count": 143,
     "metadata": {},
     "output_type": "execute_result"
    }
   ],
   "source": [
    "loan['loan_status'].describe()"
   ]
  },
  {
   "cell_type": "code",
   "execution_count": 144,
   "metadata": {},
   "outputs": [
    {
     "data": {
      "text/plain": [
       "Current                                                601779\n",
       "Fully Paid                                             207723\n",
       "Charged Off                                             45248\n",
       "Late (31-120 days)                                      11591\n",
       "Issued                                                   8460\n",
       "In Grace Period                                          6253\n",
       "Late (16-30 days)                                        2357\n",
       "Does not meet the credit policy. Status:Fully Paid       1988\n",
       "Default                                                  1219\n",
       "Does not meet the credit policy. Status:Charged Off       761\n",
       "Name: loan_status, dtype: int64"
      ]
     },
     "execution_count": 144,
     "metadata": {},
     "output_type": "execute_result"
    }
   ],
   "source": [
    "loan['loan_status'].value_counts()"
   ]
  },
  {
   "cell_type": "code",
   "execution_count": 156,
   "metadata": {},
   "outputs": [
    {
     "data": {
      "text/plain": [
       "Current                                                601779\n",
       "Fully Paid                                             207723\n",
       "Charged Off                                             45248\n",
       "Late (31-120 days)                                      11591\n",
       "In Grace Period                                          6253\n",
       "Late (16-30 days)                                        2357\n",
       "Does not meet the credit policy. Status:Fully Paid       1988\n",
       "Default                                                  1219\n",
       "Does not meet the credit policy. Status:Charged Off       761\n",
       "Name: loan_status, dtype: int64"
      ]
     },
     "execution_count": 156,
     "metadata": {},
     "output_type": "execute_result"
    }
   ],
   "source": [
    "Pred_loan_status['loan_status'].value_counts()"
   ]
  },
  {
   "cell_type": "code",
   "execution_count": 388,
   "metadata": {},
   "outputs": [],
   "source": [
    "Pred_loan_status=loan[(loan['loan_status'] != 'Current') & (loan['loan_status'] != 'Issued')]"
   ]
  },
  {
   "cell_type": "code",
   "execution_count": 389,
   "metadata": {},
   "outputs": [
    {
     "data": {
      "text/html": [
       "<div>\n",
       "<style scoped>\n",
       "    .dataframe tbody tr th:only-of-type {\n",
       "        vertical-align: middle;\n",
       "    }\n",
       "\n",
       "    .dataframe tbody tr th {\n",
       "        vertical-align: top;\n",
       "    }\n",
       "\n",
       "    .dataframe thead th {\n",
       "        text-align: right;\n",
       "    }\n",
       "</style>\n",
       "<table border=\"1\" class=\"dataframe\">\n",
       "  <thead>\n",
       "    <tr style=\"text-align: right;\">\n",
       "      <th></th>\n",
       "      <th>loan_amnt</th>\n",
       "      <th>funded_amnt</th>\n",
       "      <th>funded_amnt_inv</th>\n",
       "      <th>int_rate</th>\n",
       "      <th>installment</th>\n",
       "      <th>annual_inc</th>\n",
       "      <th>dti</th>\n",
       "      <th>delinq_2yrs</th>\n",
       "      <th>inq_last_6mths</th>\n",
       "      <th>mths_since_last_delinq</th>\n",
       "      <th>...</th>\n",
       "      <th>mths_since_last_major_derog</th>\n",
       "      <th>policy_code</th>\n",
       "      <th>acc_now_delinq</th>\n",
       "      <th>tot_coll_amt</th>\n",
       "      <th>tot_cur_bal</th>\n",
       "      <th>total_rev_hi_lim</th>\n",
       "      <th>dti_new</th>\n",
       "      <th>log_int_rate</th>\n",
       "      <th>log_annual_inc</th>\n",
       "      <th>log_tot_cur_bal</th>\n",
       "    </tr>\n",
       "  </thead>\n",
       "  <tbody>\n",
       "    <tr>\n",
       "      <th>count</th>\n",
       "      <td>277140.000000</td>\n",
       "      <td>277140.000000</td>\n",
       "      <td>277140.000000</td>\n",
       "      <td>277140.000000</td>\n",
       "      <td>277140.000000</td>\n",
       "      <td>2.771400e+05</td>\n",
       "      <td>277140.000000</td>\n",
       "      <td>277140.000000</td>\n",
       "      <td>277140.000000</td>\n",
       "      <td>277140.000000</td>\n",
       "      <td>...</td>\n",
       "      <td>277140.000000</td>\n",
       "      <td>277140.0</td>\n",
       "      <td>277140.000000</td>\n",
       "      <td>2.771400e+05</td>\n",
       "      <td>2.771400e+05</td>\n",
       "      <td>2.771400e+05</td>\n",
       "      <td>277140.000000</td>\n",
       "      <td>277140.000000</td>\n",
       "      <td>277140.000000</td>\n",
       "      <td>277140.000000</td>\n",
       "    </tr>\n",
       "    <tr>\n",
       "      <th>mean</th>\n",
       "      <td>13682.046799</td>\n",
       "      <td>13642.893934</td>\n",
       "      <td>13531.736104</td>\n",
       "      <td>13.924880</td>\n",
       "      <td>420.922943</td>\n",
       "      <td>7.248485e+04</td>\n",
       "      <td>16.760824</td>\n",
       "      <td>0.263391</td>\n",
       "      <td>0.883460</td>\n",
       "      <td>34.384491</td>\n",
       "      <td>...</td>\n",
       "      <td>43.966474</td>\n",
       "      <td>1.0</td>\n",
       "      <td>0.003432</td>\n",
       "      <td>2.103215e+02</td>\n",
       "      <td>1.375006e+05</td>\n",
       "      <td>3.006910e+04</td>\n",
       "      <td>16.760323</td>\n",
       "      <td>2.580047</td>\n",
       "      <td>11.045323</td>\n",
       "      <td>11.341488</td>\n",
       "    </tr>\n",
       "    <tr>\n",
       "      <th>std</th>\n",
       "      <td>8184.154070</td>\n",
       "      <td>8164.265903</td>\n",
       "      <td>8198.750431</td>\n",
       "      <td>4.419136</td>\n",
       "      <td>245.984493</td>\n",
       "      <td>6.068772e+04</td>\n",
       "      <td>7.885771</td>\n",
       "      <td>0.768766</td>\n",
       "      <td>1.151946</td>\n",
       "      <td>14.711039</td>\n",
       "      <td>...</td>\n",
       "      <td>9.580295</td>\n",
       "      <td>0.0</td>\n",
       "      <td>0.063507</td>\n",
       "      <td>1.744567e+04</td>\n",
       "      <td>1.319793e+05</td>\n",
       "      <td>2.569644e+04</td>\n",
       "      <td>7.884544</td>\n",
       "      <td>0.335934</td>\n",
       "      <td>0.521802</td>\n",
       "      <td>1.148948</td>\n",
       "    </tr>\n",
       "    <tr>\n",
       "      <th>min</th>\n",
       "      <td>500.000000</td>\n",
       "      <td>500.000000</td>\n",
       "      <td>0.000000</td>\n",
       "      <td>5.320000</td>\n",
       "      <td>15.670000</td>\n",
       "      <td>1.896000e+03</td>\n",
       "      <td>0.000000</td>\n",
       "      <td>0.000000</td>\n",
       "      <td>0.000000</td>\n",
       "      <td>0.000000</td>\n",
       "      <td>...</td>\n",
       "      <td>0.000000</td>\n",
       "      <td>1.0</td>\n",
       "      <td>0.000000</td>\n",
       "      <td>0.000000e+00</td>\n",
       "      <td>0.000000e+00</td>\n",
       "      <td>0.000000e+00</td>\n",
       "      <td>0.000000</td>\n",
       "      <td>1.671473</td>\n",
       "      <td>7.547502</td>\n",
       "      <td>0.000000</td>\n",
       "    </tr>\n",
       "    <tr>\n",
       "      <th>25%</th>\n",
       "      <td>7500.000000</td>\n",
       "      <td>7475.000000</td>\n",
       "      <td>7200.000000</td>\n",
       "      <td>10.990000</td>\n",
       "      <td>242.570000</td>\n",
       "      <td>4.500000e+04</td>\n",
       "      <td>10.900000</td>\n",
       "      <td>0.000000</td>\n",
       "      <td>0.000000</td>\n",
       "      <td>34.063798</td>\n",
       "      <td>...</td>\n",
       "      <td>44.104838</td>\n",
       "      <td>1.0</td>\n",
       "      <td>0.000000</td>\n",
       "      <td>0.000000e+00</td>\n",
       "      <td>3.763650e+04</td>\n",
       "      <td>1.570000e+04</td>\n",
       "      <td>10.900000</td>\n",
       "      <td>2.396986</td>\n",
       "      <td>10.714418</td>\n",
       "      <td>10.535756</td>\n",
       "    </tr>\n",
       "    <tr>\n",
       "      <th>50%</th>\n",
       "      <td>12000.000000</td>\n",
       "      <td>12000.000000</td>\n",
       "      <td>12000.000000</td>\n",
       "      <td>13.670000</td>\n",
       "      <td>367.410000</td>\n",
       "      <td>6.200000e+04</td>\n",
       "      <td>16.420000</td>\n",
       "      <td>0.000000</td>\n",
       "      <td>1.000000</td>\n",
       "      <td>34.063798</td>\n",
       "      <td>...</td>\n",
       "      <td>44.104838</td>\n",
       "      <td>1.0</td>\n",
       "      <td>0.000000</td>\n",
       "      <td>0.000000e+00</td>\n",
       "      <td>1.394582e+05</td>\n",
       "      <td>2.990000e+04</td>\n",
       "      <td>16.420000</td>\n",
       "      <td>2.615204</td>\n",
       "      <td>11.034890</td>\n",
       "      <td>11.845527</td>\n",
       "    </tr>\n",
       "    <tr>\n",
       "      <th>75%</th>\n",
       "      <td>18775.000000</td>\n",
       "      <td>18500.000000</td>\n",
       "      <td>18250.000000</td>\n",
       "      <td>16.890000</td>\n",
       "      <td>550.220000</td>\n",
       "      <td>8.700000e+04</td>\n",
       "      <td>22.270000</td>\n",
       "      <td>0.000000</td>\n",
       "      <td>1.000000</td>\n",
       "      <td>34.063798</td>\n",
       "      <td>...</td>\n",
       "      <td>44.104838</td>\n",
       "      <td>1.0</td>\n",
       "      <td>0.000000</td>\n",
       "      <td>2.257026e+02</td>\n",
       "      <td>1.648988e+05</td>\n",
       "      <td>3.206862e+04</td>\n",
       "      <td>22.270000</td>\n",
       "      <td>2.826722</td>\n",
       "      <td>11.373663</td>\n",
       "      <td>12.013093</td>\n",
       "    </tr>\n",
       "    <tr>\n",
       "      <th>max</th>\n",
       "      <td>35000.000000</td>\n",
       "      <td>35000.000000</td>\n",
       "      <td>35000.000000</td>\n",
       "      <td>28.990000</td>\n",
       "      <td>1424.570000</td>\n",
       "      <td>8.900060e+06</td>\n",
       "      <td>59.260000</td>\n",
       "      <td>29.000000</td>\n",
       "      <td>33.000000</td>\n",
       "      <td>152.000000</td>\n",
       "      <td>...</td>\n",
       "      <td>159.000000</td>\n",
       "      <td>1.0</td>\n",
       "      <td>5.000000</td>\n",
       "      <td>9.152545e+06</td>\n",
       "      <td>8.000078e+06</td>\n",
       "      <td>2.013133e+06</td>\n",
       "      <td>39.990000</td>\n",
       "      <td>3.366951</td>\n",
       "      <td>16.001569</td>\n",
       "      <td>15.894962</td>\n",
       "    </tr>\n",
       "  </tbody>\n",
       "</table>\n",
       "<p>8 rows × 36 columns</p>\n",
       "</div>"
      ],
      "text/plain": [
       "           loan_amnt    funded_amnt  funded_amnt_inv       int_rate  \\\n",
       "count  277140.000000  277140.000000    277140.000000  277140.000000   \n",
       "mean    13682.046799   13642.893934     13531.736104      13.924880   \n",
       "std      8184.154070    8164.265903      8198.750431       4.419136   \n",
       "min       500.000000     500.000000         0.000000       5.320000   \n",
       "25%      7500.000000    7475.000000      7200.000000      10.990000   \n",
       "50%     12000.000000   12000.000000     12000.000000      13.670000   \n",
       "75%     18775.000000   18500.000000     18250.000000      16.890000   \n",
       "max     35000.000000   35000.000000     35000.000000      28.990000   \n",
       "\n",
       "         installment    annual_inc            dti    delinq_2yrs  \\\n",
       "count  277140.000000  2.771400e+05  277140.000000  277140.000000   \n",
       "mean      420.922943  7.248485e+04      16.760824       0.263391   \n",
       "std       245.984493  6.068772e+04       7.885771       0.768766   \n",
       "min        15.670000  1.896000e+03       0.000000       0.000000   \n",
       "25%       242.570000  4.500000e+04      10.900000       0.000000   \n",
       "50%       367.410000  6.200000e+04      16.420000       0.000000   \n",
       "75%       550.220000  8.700000e+04      22.270000       0.000000   \n",
       "max      1424.570000  8.900060e+06      59.260000      29.000000   \n",
       "\n",
       "       inq_last_6mths  mths_since_last_delinq       ...         \\\n",
       "count   277140.000000           277140.000000       ...          \n",
       "mean         0.883460               34.384491       ...          \n",
       "std          1.151946               14.711039       ...          \n",
       "min          0.000000                0.000000       ...          \n",
       "25%          0.000000               34.063798       ...          \n",
       "50%          1.000000               34.063798       ...          \n",
       "75%          1.000000               34.063798       ...          \n",
       "max         33.000000              152.000000       ...          \n",
       "\n",
       "       mths_since_last_major_derog  policy_code  acc_now_delinq  tot_coll_amt  \\\n",
       "count                277140.000000     277140.0   277140.000000  2.771400e+05   \n",
       "mean                     43.966474          1.0        0.003432  2.103215e+02   \n",
       "std                       9.580295          0.0        0.063507  1.744567e+04   \n",
       "min                       0.000000          1.0        0.000000  0.000000e+00   \n",
       "25%                      44.104838          1.0        0.000000  0.000000e+00   \n",
       "50%                      44.104838          1.0        0.000000  0.000000e+00   \n",
       "75%                      44.104838          1.0        0.000000  2.257026e+02   \n",
       "max                     159.000000          1.0        5.000000  9.152545e+06   \n",
       "\n",
       "        tot_cur_bal  total_rev_hi_lim        dti_new   log_int_rate  \\\n",
       "count  2.771400e+05      2.771400e+05  277140.000000  277140.000000   \n",
       "mean   1.375006e+05      3.006910e+04      16.760323       2.580047   \n",
       "std    1.319793e+05      2.569644e+04       7.884544       0.335934   \n",
       "min    0.000000e+00      0.000000e+00       0.000000       1.671473   \n",
       "25%    3.763650e+04      1.570000e+04      10.900000       2.396986   \n",
       "50%    1.394582e+05      2.990000e+04      16.420000       2.615204   \n",
       "75%    1.648988e+05      3.206862e+04      22.270000       2.826722   \n",
       "max    8.000078e+06      2.013133e+06      39.990000       3.366951   \n",
       "\n",
       "       log_annual_inc  log_tot_cur_bal  \n",
       "count   277140.000000    277140.000000  \n",
       "mean        11.045323        11.341488  \n",
       "std          0.521802         1.148948  \n",
       "min          7.547502         0.000000  \n",
       "25%         10.714418        10.535756  \n",
       "50%         11.034890        11.845527  \n",
       "75%         11.373663        12.013093  \n",
       "max         16.001569        15.894962  \n",
       "\n",
       "[8 rows x 36 columns]"
      ]
     },
     "execution_count": 389,
     "metadata": {},
     "output_type": "execute_result"
    }
   ],
   "source": [
    "Pred_loan_status.describe()"
   ]
  },
  {
   "cell_type": "code",
   "execution_count": 448,
   "metadata": {},
   "outputs": [],
   "source": [
    "info_leak_col = ['emp_title','issue_d','title', 'zip_code', 'addr_state','out_prncp',\n",
    "       'out_prncp_inv', 'total_pymnt', 'total_pymnt_inv',\n",
    "       'total_rec_prncp', 'total_rec_int', 'total_rec_late_fee',\n",
    "       'recoveries', 'collection_recovery_fee', 'last_pymnt_d',\n",
    "       'last_pymnt_amnt', 'next_pymnt_d', 'last_credit_pull_d','collections_12_mths_ex_med', 'mths_since_last_major_derog',\n",
    "       'policy_code','tot_coll_amt','emp_length','earliest_cr_line']"
   ]
  },
  {
   "cell_type": "code",
   "execution_count": 426,
   "metadata": {},
   "outputs": [
    {
     "ename": "AttributeError",
     "evalue": "'int' object has no attribute 'astype'",
     "output_type": "error",
     "traceback": [
      "\u001b[0;31m---------------------------------------------------------------------------\u001b[0m",
      "\u001b[0;31mAttributeError\u001b[0m                            Traceback (most recent call last)",
      "\u001b[0;32m<ipython-input-426-dd893bcc8535>\u001b[0m in \u001b[0;36m<module>\u001b[0;34m()\u001b[0m\n\u001b[0;32m----> 1\u001b[0;31m \u001b[0;34m(\u001b[0m\u001b[0mloan\u001b[0m\u001b[0;34m[\u001b[0m\u001b[0;34m'earliest_cr_line'\u001b[0m\u001b[0;34m]\u001b[0m\u001b[0;34m[\u001b[0m\u001b[0;36m0\u001b[0m\u001b[0;34m]\u001b[0m\u001b[0;34m-\u001b[0m\u001b[0mdatetime\u001b[0m\u001b[0;34m.\u001b[0m\u001b[0mnow\u001b[0m\u001b[0;34m(\u001b[0m\u001b[0;34m)\u001b[0m\u001b[0;34m)\u001b[0m\u001b[0;34m.\u001b[0m\u001b[0mdays\u001b[0m\u001b[0;34m.\u001b[0m\u001b[0mastype\u001b[0m\u001b[0;34m(\u001b[0m\u001b[0mint\u001b[0m\u001b[0;34m)\u001b[0m\u001b[0;34m\u001b[0m\u001b[0m\n\u001b[0m",
      "\u001b[0;31mAttributeError\u001b[0m: 'int' object has no attribute 'astype'"
     ]
    }
   ],
   "source": [
    "(loan['earliest_cr_line'][0]-datetime.now()).days"
   ]
  },
  {
   "cell_type": "code",
   "execution_count": 425,
   "metadata": {},
   "outputs": [
    {
     "ename": "TypeError",
     "evalue": "ufunc true_divide cannot use operands with types dtype('int64') and dtype('<m8[D]')",
     "output_type": "error",
     "traceback": [
      "\u001b[0;31m---------------------------------------------------------------------------\u001b[0m",
      "\u001b[0;31mTypeError\u001b[0m                                 Traceback (most recent call last)",
      "\u001b[0;32m<ipython-input-425-22941040a515>\u001b[0m in \u001b[0;36m<module>\u001b[0;34m()\u001b[0m\n\u001b[0;32m----> 1\u001b[0;31m \u001b[0;34m(\u001b[0m\u001b[0;34m(\u001b[0m\u001b[0mloan\u001b[0m\u001b[0;34m[\u001b[0m\u001b[0;34m'earliest_cr_line'\u001b[0m\u001b[0;34m]\u001b[0m\u001b[0;34m[\u001b[0m\u001b[0;36m0\u001b[0m\u001b[0;34m]\u001b[0m\u001b[0;34m-\u001b[0m\u001b[0mdatetime\u001b[0m\u001b[0;34m.\u001b[0m\u001b[0mnow\u001b[0m\u001b[0;34m(\u001b[0m\u001b[0;34m)\u001b[0m\u001b[0;34m)\u001b[0m\u001b[0;34m.\u001b[0m\u001b[0mdays\u001b[0m \u001b[0;34m/\u001b[0m \u001b[0mnp\u001b[0m\u001b[0;34m.\u001b[0m\u001b[0mtimedelta64\u001b[0m\u001b[0;34m(\u001b[0m\u001b[0;36m1\u001b[0m\u001b[0;34m,\u001b[0m \u001b[0;34m'D'\u001b[0m\u001b[0;34m)\u001b[0m\u001b[0;34m)\u001b[0m\u001b[0;34m.\u001b[0m\u001b[0mastype\u001b[0m\u001b[0;34m(\u001b[0m\u001b[0mint\u001b[0m\u001b[0;34m)\u001b[0m\u001b[0;34m\u001b[0m\u001b[0m\n\u001b[0m",
      "\u001b[0;31mTypeError\u001b[0m: ufunc true_divide cannot use operands with types dtype('int64') and dtype('<m8[D]')"
     ]
    }
   ],
   "source": [
    "((loan['earliest_cr_line'][0]-datetime.now()).days / np.timedelta64(1, 'D')).astype(int)"
   ]
  },
  {
   "cell_type": "code",
   "execution_count": 430,
   "metadata": {},
   "outputs": [],
   "source": [
    "from datetime import timedelta, datetime\n",
    "today = datetime.now()\n",
    "loan['cre_len']=loan['earliest_cr_line'].apply(lambda x: (today - x).days)"
   ]
  },
  {
   "cell_type": "code",
   "execution_count": 429,
   "metadata": {},
   "outputs": [],
   "source": [
    "loan['earliest_cr_line']= pd.to_datetime(loanT['earliest_cr_line'])"
   ]
  },
  {
   "cell_type": "code",
   "execution_count": 435,
   "metadata": {},
   "outputs": [],
   "source": [
    "Investor_lend = loan.copy()"
   ]
  },
  {
   "cell_type": "code",
   "execution_count": 449,
   "metadata": {},
   "outputs": [],
   "source": [
    "Investor_lend.drop(info_leak_col,axis = 1,inplace = True)"
   ]
  },
  {
   "cell_type": "code",
   "execution_count": 450,
   "metadata": {},
   "outputs": [
    {
     "data": {
      "text/plain": [
       "Fully Paid     207723\n",
       "Charged Off     69417\n",
       "Name: loan_status, dtype: int64"
      ]
     },
     "execution_count": 450,
     "metadata": {},
     "output_type": "execute_result"
    }
   ],
   "source": [
    "Investor_lend['loan_status'].value_counts()"
   ]
  },
  {
   "cell_type": "code",
   "execution_count": 442,
   "metadata": {},
   "outputs": [],
   "source": [
    "Investor_lend=Investor_lend[(Investor_lend['loan_status'] != 'Current') & (Investor_lend['loan_status'] != 'Issued')]"
   ]
  },
  {
   "cell_type": "code",
   "execution_count": 443,
   "metadata": {},
   "outputs": [],
   "source": [
    "Investor_lend.loc[Investor_lend['loan_status'] != 'Fully Paid', 'loan_status'] = 'Charged Off'"
   ]
  },
  {
   "cell_type": "code",
   "execution_count": null,
   "metadata": {},
   "outputs": [],
   "source": [
    "Investor_lend"
   ]
  },
  {
   "cell_type": "code",
   "execution_count": 447,
   "metadata": {},
   "outputs": [
    {
     "data": {
      "text/plain": [
       "loan_amnt                             float64\n",
       "funded_amnt                           float64\n",
       "funded_amnt_inv                       float64\n",
       "term                                   object\n",
       "int_rate                              float64\n",
       "installment                           float64\n",
       "grade                                  object\n",
       "sub_grade                              object\n",
       "emp_title                              object\n",
       "emp_length                             object\n",
       "home_ownership                         object\n",
       "annual_inc                            float64\n",
       "issue_d                        datetime64[ns]\n",
       "loan_status                            object\n",
       "pymnt_plan                             object\n",
       "purpose                                object\n",
       "title                                  object\n",
       "zip_code                               object\n",
       "addr_state                             object\n",
       "dti                                   float64\n",
       "delinq_2yrs                           float64\n",
       "earliest_cr_line               datetime64[ns]\n",
       "inq_last_6mths                        float64\n",
       "mths_since_last_delinq                float64\n",
       "open_acc                              float64\n",
       "pub_rec                               float64\n",
       "revol_bal                             float64\n",
       "revol_util                            float64\n",
       "total_acc                             float64\n",
       "initial_list_status                    object\n",
       "out_prncp                             float64\n",
       "out_prncp_inv                         float64\n",
       "total_pymnt                           float64\n",
       "total_pymnt_inv                       float64\n",
       "total_rec_prncp                       float64\n",
       "total_rec_int                         float64\n",
       "total_rec_late_fee                    float64\n",
       "recoveries                            float64\n",
       "collection_recovery_fee               float64\n",
       "last_pymnt_d                           object\n",
       "last_pymnt_amnt                       float64\n",
       "next_pymnt_d                           object\n",
       "last_credit_pull_d                     object\n",
       "collections_12_mths_ex_med            float64\n",
       "mths_since_last_major_derog           float64\n",
       "policy_code                           float64\n",
       "application_type                       object\n",
       "acc_now_delinq                        float64\n",
       "tot_coll_amt                          float64\n",
       "tot_cur_bal                           float64\n",
       "total_rev_hi_lim                      float64\n",
       "dti_new                               float64\n",
       "log_int_rate                          float64\n",
       "log_annual_inc                        float64\n",
       "log_tot_cur_bal                       float64\n",
       "cre_len                               float64\n",
       "dtype: object"
      ]
     },
     "execution_count": 447,
     "metadata": {},
     "output_type": "execute_result"
    }
   ],
   "source": [
    "Investor_lend.dtypes"
   ]
  },
  {
   "cell_type": "code",
   "execution_count": 445,
   "metadata": {},
   "outputs": [],
   "source": [
    "obj = ['loan_status','home_ownership', 'purpose', 'term','grade','sub_grade','pymnt_plan','initial_list_status','application_type']"
   ]
  },
  {
   "cell_type": "code",
   "execution_count": 451,
   "metadata": {},
   "outputs": [],
   "source": [
    "Investor_lend_encoded = pd.get_dummies(Investor_lend, prefix = obj, drop_first = True)"
   ]
  },
  {
   "cell_type": "code",
   "execution_count": 453,
   "metadata": {},
   "outputs": [
    {
     "data": {
      "text/plain": [
       "array(['loan_amnt', 'funded_amnt', 'funded_amnt_inv', 'int_rate',\n",
       "       'installment', 'annual_inc', 'dti', 'delinq_2yrs',\n",
       "       'inq_last_6mths', 'mths_since_last_delinq', 'open_acc', 'pub_rec',\n",
       "       'revol_bal', 'revol_util', 'total_acc', 'acc_now_delinq',\n",
       "       'tot_cur_bal', 'total_rev_hi_lim', 'dti_new', 'log_int_rate',\n",
       "       'log_annual_inc', 'log_tot_cur_bal', 'cre_len',\n",
       "       'loan_status_ 60 months', 'home_ownership_B', 'home_ownership_C',\n",
       "       'home_ownership_D', 'home_ownership_E', 'home_ownership_F',\n",
       "       'home_ownership_G', 'purpose_A2', 'purpose_A3', 'purpose_A4',\n",
       "       'purpose_A5', 'purpose_B1', 'purpose_B2', 'purpose_B3',\n",
       "       'purpose_B4', 'purpose_B5', 'purpose_C1', 'purpose_C2',\n",
       "       'purpose_C3', 'purpose_C4', 'purpose_C5', 'purpose_D1',\n",
       "       'purpose_D2', 'purpose_D3', 'purpose_D4', 'purpose_D5',\n",
       "       'purpose_E1', 'purpose_E2', 'purpose_E3', 'purpose_E4',\n",
       "       'purpose_E5', 'purpose_F1', 'purpose_F2', 'purpose_F3',\n",
       "       'purpose_F4', 'purpose_F5', 'purpose_G1', 'purpose_G2',\n",
       "       'purpose_G3', 'purpose_G4', 'purpose_G5', 'term_OTHER', 'term_OWN',\n",
       "       'term_RENT', 'grade_Fully Paid', 'sub_grade_y',\n",
       "       'pymnt_plan_credit_card', 'pymnt_plan_debt_consolidation',\n",
       "       'pymnt_plan_educational', 'pymnt_plan_home_improvement',\n",
       "       'pymnt_plan_house', 'pymnt_plan_major_purchase',\n",
       "       'pymnt_plan_medical', 'pymnt_plan_moving', 'pymnt_plan_other',\n",
       "       'pymnt_plan_renewable_energy', 'pymnt_plan_small_business',\n",
       "       'pymnt_plan_vacation', 'pymnt_plan_wedding',\n",
       "       'initial_list_status_w', 'application_type_JOINT'], dtype=object)"
      ]
     },
     "execution_count": 453,
     "metadata": {},
     "output_type": "execute_result"
    }
   ],
   "source": [
    "Investor_lend_encoded.columns.values"
   ]
  },
  {
   "cell_type": "code",
   "execution_count": null,
   "metadata": {},
   "outputs": [],
   "source": []
  },
  {
   "cell_type": "code",
   "execution_count": null,
   "metadata": {
    "collapsed": true
   },
   "outputs": [],
   "source": []
  },
  {
   "cell_type": "code",
   "execution_count": null,
   "metadata": {},
   "outputs": [],
   "source": []
  },
  {
   "cell_type": "code",
   "execution_count": null,
   "metadata": {},
   "outputs": [],
   "source": []
  },
  {
   "cell_type": "code",
   "execution_count": null,
   "metadata": {},
   "outputs": [],
   "source": []
  }
 ],
 "metadata": {
  "kernelspec": {
   "display_name": "Python 3",
   "language": "python",
   "name": "python3"
  },
  "language_info": {
   "codemirror_mode": {
    "name": "ipython",
    "version": 3
   },
   "file_extension": ".py",
   "mimetype": "text/x-python",
   "name": "python",
   "nbconvert_exporter": "python",
   "pygments_lexer": "ipython3",
   "version": "3.6.4"
  }
 },
 "nbformat": 4,
 "nbformat_minor": 2
}
