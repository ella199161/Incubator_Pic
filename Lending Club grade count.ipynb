{
 "cells": [
  {
   "cell_type": "code",
   "execution_count": 1,
   "metadata": {
    "collapsed": false
   },
   "outputs": [
    {
     "name": "stderr",
     "output_type": "stream",
     "text": [
      "/Users/hzeng/anaconda/lib/python3.5/site-packages/IPython/core/interactiveshell.py:2723: DtypeWarning: Columns (0,18,48,58,117,128,129,130,133,134,135,138,144,145,146) have mixed types. Specify dtype option on import or set low_memory=False.\n",
      "  interactivity=interactivity, compiler=compiler, result=result)\n"
     ]
    },
    {
     "name": "stdout",
     "output_type": "stream",
     "text": [
      "<class 'pandas.core.frame.DataFrame'>\n",
      "RangeIndex: 1646801 entries, 0 to 1646800\n",
      "Data columns (total 150 columns):\n",
      "id                                            1646801 non-null object\n",
      "member_id                                     0 non-null float64\n",
      "loan_amnt                                     1646778 non-null float64\n",
      "funded_amnt                                   1646778 non-null float64\n",
      "funded_amnt_inv                               1646778 non-null float64\n",
      "term                                          1646778 non-null object\n",
      "int_rate                                      1646778 non-null float64\n",
      "installment                                   1646778 non-null float64\n",
      "grade                                         1646778 non-null object\n",
      "sub_grade                                     1646778 non-null object\n",
      "emp_title                                     1544337 non-null object\n",
      "emp_length                                    1551580 non-null object\n",
      "home_ownership                                1646778 non-null object\n",
      "annual_inc                                    1646774 non-null float64\n",
      "verification_status                           1646778 non-null object\n",
      "issue_d                                       1646778 non-null object\n",
      "loan_status                                   1646778 non-null object\n",
      "pymnt_plan                                    1646778 non-null object\n",
      "desc                                          126067 non-null object\n",
      "purpose                                       1646778 non-null object\n",
      "title                                         1623453 non-null object\n",
      "zip_code                                      1646777 non-null object\n",
      "addr_state                                    1646778 non-null object\n",
      "dti                                           1646421 non-null float64\n",
      "delinq_2yrs                                   1646749 non-null float64\n",
      "earliest_cr_line                              1646749 non-null object\n",
      "fico_range_low                                1646778 non-null float64\n",
      "fico_range_high                               1646778 non-null float64\n",
      "inq_last_6mths                                1646748 non-null float64\n",
      "mths_since_last_delinq                        829731 non-null float64\n",
      "mths_since_last_record                        278243 non-null float64\n",
      "open_acc                                      1646749 non-null float64\n",
      "pub_rec                                       1646749 non-null float64\n",
      "revol_bal                                     1646778 non-null float64\n",
      "revol_util                                    1645759 non-null float64\n",
      "total_acc                                     1646749 non-null float64\n",
      "initial_list_status                           1646778 non-null object\n",
      "out_prncp                                     1646778 non-null float64\n",
      "out_prncp_inv                                 1646778 non-null float64\n",
      "total_pymnt                                   1646778 non-null float64\n",
      "total_pymnt_inv                               1646778 non-null float64\n",
      "total_rec_prncp                               1646778 non-null float64\n",
      "total_rec_int                                 1646778 non-null float64\n",
      "total_rec_late_fee                            1646778 non-null float64\n",
      "recoveries                                    1646778 non-null float64\n",
      "collection_recovery_fee                       1646778 non-null float64\n",
      "last_pymnt_d                                  1645160 non-null object\n",
      "last_pymnt_amnt                               1646778 non-null float64\n",
      "next_pymnt_d                                  831792 non-null object\n",
      "last_credit_pull_d                            1646710 non-null object\n",
      "last_fico_range_high                          1646778 non-null float64\n",
      "last_fico_range_low                           1646778 non-null float64\n",
      "collections_12_mths_ex_med                    1646633 non-null float64\n",
      "mths_since_last_major_derog                   436828 non-null float64\n",
      "policy_code                                   1646778 non-null float64\n",
      "application_type                              1646778 non-null object\n",
      "annual_inc_joint                              34514 non-null float64\n",
      "dti_joint                                     34510 non-null float64\n",
      "verification_status_joint                     34514 non-null object\n",
      "acc_now_delinq                                1646749 non-null float64\n",
      "tot_coll_amt                                  1576502 non-null float64\n",
      "tot_cur_bal                                   1576502 non-null float64\n",
      "open_acc_6m                                   780648 non-null float64\n",
      "open_act_il                                   780649 non-null float64\n",
      "open_il_12m                                   780649 non-null float64\n",
      "open_il_24m                                   780649 non-null float64\n",
      "mths_since_rcnt_il                            759605 non-null float64\n",
      "total_bal_il                                  780649 non-null float64\n",
      "il_util                                       677360 non-null float64\n",
      "open_rv_12m                                   780649 non-null float64\n",
      "open_rv_24m                                   780649 non-null float64\n",
      "max_bal_bc                                    780649 non-null float64\n",
      "all_util                                      780596 non-null float64\n",
      "total_rev_hi_lim                              1576502 non-null float64\n",
      "inq_fi                                        780649 non-null float64\n",
      "total_cu_tl                                   780648 non-null float64\n",
      "inq_last_12m                                  780648 non-null float64\n",
      "acc_open_past_24mths                          1596748 non-null float64\n",
      "avg_cur_bal                                   1576483 non-null float64\n",
      "bc_open_to_buy                                1580311 non-null float64\n",
      "bc_util                                       1579444 non-null float64\n",
      "chargeoff_within_12_mths                      1646633 non-null float64\n",
      "delinq_amnt                                   1646749 non-null float64\n",
      "mo_sin_old_il_acct                            1530458 non-null float64\n",
      "mo_sin_old_rev_tl_op                          1576501 non-null float64\n",
      "mo_sin_rcnt_rev_tl_op                         1576501 non-null float64\n",
      "mo_sin_rcnt_tl                                1576502 non-null float64\n",
      "mort_acc                                      1596748 non-null float64\n",
      "mths_since_recent_bc                          1581333 non-null float64\n",
      "mths_since_recent_bc_dlq                      397110 non-null float64\n",
      "mths_since_recent_inq                         1427448 non-null float64\n",
      "mths_since_recent_revol_delinq                562319 non-null float64\n",
      "num_accts_ever_120_pd                         1576502 non-null float64\n",
      "num_actv_bc_tl                                1576502 non-null float64\n",
      "num_actv_rev_tl                               1576502 non-null float64\n",
      "num_bc_sats                                   1588188 non-null float64\n",
      "num_bc_tl                                     1576502 non-null float64\n",
      "num_il_tl                                     1576502 non-null float64\n",
      "num_op_rev_tl                                 1576502 non-null float64\n",
      "num_rev_accts                                 1576501 non-null float64\n",
      "num_rev_tl_bal_gt_0                           1576502 non-null float64\n",
      "num_sats                                      1588188 non-null float64\n",
      "num_tl_120dpd_2m                              1512360 non-null float64\n",
      "num_tl_30dpd                                  1576502 non-null float64\n",
      "num_tl_90g_dpd_24m                            1576502 non-null float64\n",
      "num_tl_op_past_12m                            1576502 non-null float64\n",
      "pct_tl_nvr_dlq                                1576349 non-null float64\n",
      "percent_bc_gt_75                              1579883 non-null float64\n",
      "pub_rec_bankruptcies                          1645413 non-null float64\n",
      "tax_liens                                     1646673 non-null float64\n",
      "tot_hi_cred_lim                               1576502 non-null float64\n",
      "total_bal_ex_mort                             1596748 non-null float64\n",
      "total_bc_limit                                1596748 non-null float64\n",
      "total_il_high_credit_limit                    1576502 non-null float64\n",
      "revol_bal_joint                               21825 non-null float64\n",
      "sec_app_fico_range_low                        21825 non-null float64\n",
      "sec_app_fico_range_high                       21825 non-null float64\n",
      "sec_app_earliest_cr_line                      21825 non-null object\n",
      "sec_app_inq_last_6mths                        21825 non-null float64\n",
      "sec_app_mort_acc                              21825 non-null float64\n",
      "sec_app_open_acc                              21825 non-null float64\n",
      "sec_app_revol_util                            21537 non-null float64\n",
      "sec_app_open_act_il                           21825 non-null float64\n",
      "sec_app_num_rev_accts                         21825 non-null float64\n",
      "sec_app_chargeoff_within_12_mths              21825 non-null float64\n",
      "sec_app_collections_12_mths_ex_med            21825 non-null float64\n",
      "sec_app_mths_since_last_major_derog           7541 non-null float64\n",
      "hardship_flag                                 1646778 non-null object\n",
      "hardship_type                                 5778 non-null object\n",
      "hardship_reason                               5778 non-null object\n",
      "hardship_status                               5778 non-null object\n",
      "deferral_term                                 5778 non-null float64\n",
      "hardship_amount                               5778 non-null float64\n",
      "hardship_start_date                           5778 non-null object\n",
      "hardship_end_date                             5778 non-null object\n",
      "payment_plan_start_date                       5778 non-null object\n",
      "hardship_length                               5778 non-null float64\n",
      "hardship_dpd                                  5778 non-null float64\n",
      "hardship_loan_status                          5778 non-null object\n",
      "orig_projected_additional_accrued_interest    4822 non-null float64\n",
      "hardship_payoff_balance_amount                5778 non-null float64\n",
      "hardship_last_payment_amount                  5778 non-null float64\n",
      "disbursement_method                           1646778 non-null object\n",
      "debt_settlement_flag                          1646778 non-null object\n",
      "debt_settlement_flag_date                     13290 non-null object\n",
      "settlement_status                             13290 non-null object\n",
      "settlement_date                               13290 non-null object\n",
      "settlement_amount                             13290 non-null float64\n",
      "settlement_percentage                         13290 non-null float64\n",
      "settlement_term                               13290 non-null float64\n",
      "dtypes: float64(113), object(37)\n",
      "memory usage: 1.8+ GB\n",
      "None\n"
     ]
    }
   ],
   "source": [
    "import pandas as pd\n",
    "import numpy as np\n",
    "import matplotlib.pyplot as plt\n",
    "accept_df = pd.read_csv('accepted_2007_to_2017Q3.csv.gz', compression='gzip')\n",
    "reject_df = pd.read_csv('rejected_2007_to_2017Q3.csv.gz', compression='gzip')\n",
    "\n",
    "# too many columns to print the info summary out, so we need to force it\n",
    "print(accept_df.info(verbose=True, null_counts=True))"
   ]
  },
  {
   "cell_type": "code",
   "execution_count": 2,
   "metadata": {
    "collapsed": true
   },
   "outputs": [],
   "source": [
    "%matplotlib inline "
   ]
  },
  {
   "cell_type": "code",
   "execution_count": 3,
   "metadata": {
    "collapsed": false
   },
   "outputs": [
    {
     "data": {
      "text/html": [
       "<div>\n",
       "<table border=\"1\" class=\"dataframe\">\n",
       "  <thead>\n",
       "    <tr style=\"text-align: right;\">\n",
       "      <th></th>\n",
       "      <th>id</th>\n",
       "      <th>member_id</th>\n",
       "      <th>loan_amnt</th>\n",
       "      <th>funded_amnt</th>\n",
       "      <th>funded_amnt_inv</th>\n",
       "      <th>term</th>\n",
       "      <th>int_rate</th>\n",
       "      <th>installment</th>\n",
       "      <th>grade</th>\n",
       "      <th>sub_grade</th>\n",
       "      <th>...</th>\n",
       "      <th>hardship_payoff_balance_amount</th>\n",
       "      <th>hardship_last_payment_amount</th>\n",
       "      <th>disbursement_method</th>\n",
       "      <th>debt_settlement_flag</th>\n",
       "      <th>debt_settlement_flag_date</th>\n",
       "      <th>settlement_status</th>\n",
       "      <th>settlement_date</th>\n",
       "      <th>settlement_amount</th>\n",
       "      <th>settlement_percentage</th>\n",
       "      <th>settlement_term</th>\n",
       "    </tr>\n",
       "  </thead>\n",
       "  <tbody>\n",
       "    <tr>\n",
       "      <th>0</th>\n",
       "      <td>38098114</td>\n",
       "      <td>NaN</td>\n",
       "      <td>15000.0</td>\n",
       "      <td>15000.0</td>\n",
       "      <td>15000.0</td>\n",
       "      <td>60 months</td>\n",
       "      <td>12.39</td>\n",
       "      <td>336.64</td>\n",
       "      <td>C</td>\n",
       "      <td>C1</td>\n",
       "      <td>...</td>\n",
       "      <td>NaN</td>\n",
       "      <td>NaN</td>\n",
       "      <td>Cash</td>\n",
       "      <td>N</td>\n",
       "      <td>NaN</td>\n",
       "      <td>NaN</td>\n",
       "      <td>NaN</td>\n",
       "      <td>NaN</td>\n",
       "      <td>NaN</td>\n",
       "      <td>NaN</td>\n",
       "    </tr>\n",
       "    <tr>\n",
       "      <th>1</th>\n",
       "      <td>36805548</td>\n",
       "      <td>NaN</td>\n",
       "      <td>10400.0</td>\n",
       "      <td>10400.0</td>\n",
       "      <td>10400.0</td>\n",
       "      <td>36 months</td>\n",
       "      <td>6.99</td>\n",
       "      <td>321.08</td>\n",
       "      <td>A</td>\n",
       "      <td>A3</td>\n",
       "      <td>...</td>\n",
       "      <td>NaN</td>\n",
       "      <td>NaN</td>\n",
       "      <td>Cash</td>\n",
       "      <td>N</td>\n",
       "      <td>NaN</td>\n",
       "      <td>NaN</td>\n",
       "      <td>NaN</td>\n",
       "      <td>NaN</td>\n",
       "      <td>NaN</td>\n",
       "      <td>NaN</td>\n",
       "    </tr>\n",
       "    <tr>\n",
       "      <th>2</th>\n",
       "      <td>37842129</td>\n",
       "      <td>NaN</td>\n",
       "      <td>21425.0</td>\n",
       "      <td>21425.0</td>\n",
       "      <td>21425.0</td>\n",
       "      <td>60 months</td>\n",
       "      <td>15.59</td>\n",
       "      <td>516.36</td>\n",
       "      <td>D</td>\n",
       "      <td>D1</td>\n",
       "      <td>...</td>\n",
       "      <td>NaN</td>\n",
       "      <td>NaN</td>\n",
       "      <td>Cash</td>\n",
       "      <td>N</td>\n",
       "      <td>NaN</td>\n",
       "      <td>NaN</td>\n",
       "      <td>NaN</td>\n",
       "      <td>NaN</td>\n",
       "      <td>NaN</td>\n",
       "      <td>NaN</td>\n",
       "    </tr>\n",
       "    <tr>\n",
       "      <th>3</th>\n",
       "      <td>37612354</td>\n",
       "      <td>NaN</td>\n",
       "      <td>12800.0</td>\n",
       "      <td>12800.0</td>\n",
       "      <td>12800.0</td>\n",
       "      <td>60 months</td>\n",
       "      <td>17.14</td>\n",
       "      <td>319.08</td>\n",
       "      <td>D</td>\n",
       "      <td>D4</td>\n",
       "      <td>...</td>\n",
       "      <td>NaN</td>\n",
       "      <td>NaN</td>\n",
       "      <td>Cash</td>\n",
       "      <td>N</td>\n",
       "      <td>NaN</td>\n",
       "      <td>NaN</td>\n",
       "      <td>NaN</td>\n",
       "      <td>NaN</td>\n",
       "      <td>NaN</td>\n",
       "      <td>NaN</td>\n",
       "    </tr>\n",
       "    <tr>\n",
       "      <th>4</th>\n",
       "      <td>37662224</td>\n",
       "      <td>NaN</td>\n",
       "      <td>7650.0</td>\n",
       "      <td>7650.0</td>\n",
       "      <td>7650.0</td>\n",
       "      <td>36 months</td>\n",
       "      <td>13.66</td>\n",
       "      <td>260.20</td>\n",
       "      <td>C</td>\n",
       "      <td>C3</td>\n",
       "      <td>...</td>\n",
       "      <td>NaN</td>\n",
       "      <td>NaN</td>\n",
       "      <td>Cash</td>\n",
       "      <td>N</td>\n",
       "      <td>NaN</td>\n",
       "      <td>NaN</td>\n",
       "      <td>NaN</td>\n",
       "      <td>NaN</td>\n",
       "      <td>NaN</td>\n",
       "      <td>NaN</td>\n",
       "    </tr>\n",
       "  </tbody>\n",
       "</table>\n",
       "<p>5 rows × 150 columns</p>\n",
       "</div>"
      ],
      "text/plain": [
       "         id  member_id  loan_amnt  funded_amnt  funded_amnt_inv        term  \\\n",
       "0  38098114        NaN    15000.0      15000.0          15000.0   60 months   \n",
       "1  36805548        NaN    10400.0      10400.0          10400.0   36 months   \n",
       "2  37842129        NaN    21425.0      21425.0          21425.0   60 months   \n",
       "3  37612354        NaN    12800.0      12800.0          12800.0   60 months   \n",
       "4  37662224        NaN     7650.0       7650.0           7650.0   36 months   \n",
       "\n",
       "   int_rate  installment grade sub_grade       ...        \\\n",
       "0     12.39       336.64     C        C1       ...         \n",
       "1      6.99       321.08     A        A3       ...         \n",
       "2     15.59       516.36     D        D1       ...         \n",
       "3     17.14       319.08     D        D4       ...         \n",
       "4     13.66       260.20     C        C3       ...         \n",
       "\n",
       "  hardship_payoff_balance_amount hardship_last_payment_amount  \\\n",
       "0                            NaN                          NaN   \n",
       "1                            NaN                          NaN   \n",
       "2                            NaN                          NaN   \n",
       "3                            NaN                          NaN   \n",
       "4                            NaN                          NaN   \n",
       "\n",
       "  disbursement_method  debt_settlement_flag debt_settlement_flag_date  \\\n",
       "0                Cash                     N                       NaN   \n",
       "1                Cash                     N                       NaN   \n",
       "2                Cash                     N                       NaN   \n",
       "3                Cash                     N                       NaN   \n",
       "4                Cash                     N                       NaN   \n",
       "\n",
       "  settlement_status settlement_date settlement_amount settlement_percentage  \\\n",
       "0               NaN             NaN               NaN                   NaN   \n",
       "1               NaN             NaN               NaN                   NaN   \n",
       "2               NaN             NaN               NaN                   NaN   \n",
       "3               NaN             NaN               NaN                   NaN   \n",
       "4               NaN             NaN               NaN                   NaN   \n",
       "\n",
       "  settlement_term  \n",
       "0             NaN  \n",
       "1             NaN  \n",
       "2             NaN  \n",
       "3             NaN  \n",
       "4             NaN  \n",
       "\n",
       "[5 rows x 150 columns]"
      ]
     },
     "execution_count": 3,
     "metadata": {},
     "output_type": "execute_result"
    }
   ],
   "source": [
    "accept_df.head()"
   ]
  },
  {
   "cell_type": "code",
   "execution_count": 4,
   "metadata": {
    "collapsed": false
   },
   "outputs": [
    {
     "data": {
      "text/html": [
       "<div>\n",
       "<table border=\"1\" class=\"dataframe\">\n",
       "  <thead>\n",
       "    <tr style=\"text-align: right;\">\n",
       "      <th></th>\n",
       "      <th>Amount Requested</th>\n",
       "      <th>Application Date</th>\n",
       "      <th>Loan Title</th>\n",
       "      <th>Risk_Score</th>\n",
       "      <th>Debt-To-Income Ratio</th>\n",
       "      <th>Zip Code</th>\n",
       "      <th>State</th>\n",
       "      <th>Employment Length</th>\n",
       "      <th>Policy Code</th>\n",
       "    </tr>\n",
       "  </thead>\n",
       "  <tbody>\n",
       "    <tr>\n",
       "      <th>0</th>\n",
       "      <td>4000.0</td>\n",
       "      <td>2016-07-01</td>\n",
       "      <td>major_purchase</td>\n",
       "      <td>NaN</td>\n",
       "      <td>4.21%</td>\n",
       "      <td>750xx</td>\n",
       "      <td>TX</td>\n",
       "      <td>5 years</td>\n",
       "      <td>0.0</td>\n",
       "    </tr>\n",
       "    <tr>\n",
       "      <th>1</th>\n",
       "      <td>20000.0</td>\n",
       "      <td>2016-07-01</td>\n",
       "      <td>debt_consolidation</td>\n",
       "      <td>NaN</td>\n",
       "      <td>0.39%</td>\n",
       "      <td>930xx</td>\n",
       "      <td>CA</td>\n",
       "      <td>&lt; 1 year</td>\n",
       "      <td>0.0</td>\n",
       "    </tr>\n",
       "    <tr>\n",
       "      <th>2</th>\n",
       "      <td>1000.0</td>\n",
       "      <td>2016-07-01</td>\n",
       "      <td>renewable_energy</td>\n",
       "      <td>NaN</td>\n",
       "      <td>42.38%</td>\n",
       "      <td>923xx</td>\n",
       "      <td>CA</td>\n",
       "      <td>5 years</td>\n",
       "      <td>0.0</td>\n",
       "    </tr>\n",
       "    <tr>\n",
       "      <th>3</th>\n",
       "      <td>15000.0</td>\n",
       "      <td>2016-07-01</td>\n",
       "      <td>home_improvement</td>\n",
       "      <td>NaN</td>\n",
       "      <td>5.98%</td>\n",
       "      <td>910xx</td>\n",
       "      <td>CA</td>\n",
       "      <td>5 years</td>\n",
       "      <td>0.0</td>\n",
       "    </tr>\n",
       "    <tr>\n",
       "      <th>4</th>\n",
       "      <td>8500.0</td>\n",
       "      <td>2016-07-01</td>\n",
       "      <td>debt_consolidation</td>\n",
       "      <td>NaN</td>\n",
       "      <td>29.14%</td>\n",
       "      <td>210xx</td>\n",
       "      <td>MD</td>\n",
       "      <td>&lt; 1 year</td>\n",
       "      <td>0.0</td>\n",
       "    </tr>\n",
       "  </tbody>\n",
       "</table>\n",
       "</div>"
      ],
      "text/plain": [
       "   Amount Requested Application Date          Loan Title  Risk_Score  \\\n",
       "0            4000.0       2016-07-01      major_purchase         NaN   \n",
       "1           20000.0       2016-07-01  debt_consolidation         NaN   \n",
       "2            1000.0       2016-07-01    renewable_energy         NaN   \n",
       "3           15000.0       2016-07-01    home_improvement         NaN   \n",
       "4            8500.0       2016-07-01  debt_consolidation         NaN   \n",
       "\n",
       "  Debt-To-Income Ratio Zip Code State Employment Length  Policy Code  \n",
       "0                4.21%    750xx    TX           5 years          0.0  \n",
       "1                0.39%    930xx    CA          < 1 year          0.0  \n",
       "2               42.38%    923xx    CA           5 years          0.0  \n",
       "3                5.98%    910xx    CA           5 years          0.0  \n",
       "4               29.14%    210xx    MD          < 1 year          0.0  "
      ]
     },
     "execution_count": 4,
     "metadata": {},
     "output_type": "execute_result"
    }
   ],
   "source": [
    "reject_df.head()"
   ]
  },
  {
   "cell_type": "code",
   "execution_count": 8,
   "metadata": {
    "collapsed": false
   },
   "outputs": [
    {
     "data": {
      "text/plain": [
       "{'A', 'B', 'C', 'D', 'E', 'F', 'G'}"
      ]
     },
     "execution_count": 8,
     "metadata": {},
     "output_type": "execute_result"
    }
   ],
   "source": [
    "grade_acc = set(accept_df['grade'])\n",
    "grade_acc = {x for x in grade_acc if x==x}\n",
    "grade_acc"
   ]
  },
  {
   "cell_type": "code",
   "execution_count": 10,
   "metadata": {
    "collapsed": false
   },
   "outputs": [],
   "source": [
    "grade_y = []\n",
    "for i in grade_acc:\n",
    "    app = accept_df[accept_df['grade']== i]['id'].count()\n",
    "    grade_y.append(app)\n"
   ]
  },
  {
   "cell_type": "code",
   "execution_count": 11,
   "metadata": {
    "collapsed": false
   },
   "outputs": [
    {
     "data": {
      "text/plain": [
       "[37411, 11026, 237512, 272724, 485360, 111961, 490784]"
      ]
     },
     "execution_count": 11,
     "metadata": {},
     "output_type": "execute_result"
    }
   ],
   "source": [
    "grade_y"
   ]
  },
  {
   "cell_type": "code",
   "execution_count": 13,
   "metadata": {
    "collapsed": false
   },
   "outputs": [
    {
     "data": {
      "text/plain": [
       "<Container object of 7 artists>"
      ]
     },
     "execution_count": 13,
     "metadata": {},
     "output_type": "execute_result"
    },
    {
     "data": {
      "text/plain": [
       "<matplotlib.text.Text at 0x1181fd278>"
      ]
     },
     "execution_count": 13,
     "metadata": {},
     "output_type": "execute_result"
    },
    {
     "data": {
      "text/plain": [
       "<matplotlib.text.Text at 0x1181f00b8>"
      ]
     },
     "execution_count": 13,
     "metadata": {},
     "output_type": "execute_result"
    },
    {
     "data": {
      "text/plain": [
       "([<matplotlib.axis.XTick at 0x118208048>,\n",
       "  <matplotlib.axis.XTick at 0x1181d2160>,\n",
       "  <matplotlib.axis.XTick at 0x11820f278>,\n",
       "  <matplotlib.axis.XTick at 0x118fbb208>,\n",
       "  <matplotlib.axis.XTick at 0x118fbbc18>,\n",
       "  <matplotlib.axis.XTick at 0x118fbe668>,\n",
       "  <matplotlib.axis.XTick at 0x118fc20b8>],\n",
       " <a list of 7 Text xticklabel objects>)"
      ]
     },
     "execution_count": 13,
     "metadata": {},
     "output_type": "execute_result"
    },
    {
     "data": {
      "image/png": "[encoded data removed]",
      "text/plain": [
       "<matplotlib.figure.Figure at 0x1181d9f98>"
      ]
     },
     "metadata": {},
     "output_type": "display_data"
    }
   ],
   "source": [
    "\n",
    "N = len(grade_acc)\n",
    "ind = np.arange(N)    # the x locations for the groups\n",
    "width = 0.35 \n",
    "plt.bar(ind, grade_y, width)\n",
    "plt.ylabel('Number of Loan')\n",
    "plt.title('Number of accepted Loan in each grade')\n",
    "plt.xticks(ind, ('A', 'B', 'C', 'D', 'E', 'F', 'G'))\n",
    "plt.show()"
   ]
  },
  {
   "cell_type": "code",
   "execution_count": 14,
   "metadata": {
    "collapsed": true
   },
   "outputs": [],
   "source": [
    "# This tells me the number of loans in each catagory. "
   ]
  },
  {
   "cell_type": "code",
   "execution_count": null,
   "metadata": {
    "collapsed": true
   },
   "outputs": [],
   "source": []
  }
 ],
 "metadata": {
  "kernelspec": {
   "display_name": "Python 3",
   "language": "python",
   "name": "python3"
  },
  "language_info": {
   "codemirror_mode": {
    "name": "ipython",
    "version": 3
   },
   "file_extension": ".py",
   "mimetype": "text/x-python",
   "name": "python",
   "nbconvert_exporter": "python",
   "pygments_lexer": "ipython3",
   "version": "3.5.2"
  }
 },
 "nbformat": 4,
 "nbformat_minor": 0
}
